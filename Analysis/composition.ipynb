{
 "cells": [
  {
   "cell_type": "code",
   "execution_count": null,
   "metadata": {
    "dotnet_interactive": {
     "language": "csharp"
    },
    "vscode": {
     "languageId": "dotnet-interactive.csharp"
    }
   },
   "outputs": [],
   "source": [
    "\n",
    "#r \"nuget:Microsoft.DotNet.Interactive.SqlServer,1.0.0-beta.22175.2\"\n",
    "#r \"nuget:Microsoft.DotNet.Interactive,1.0.0-beta.22175.2\"\n",
    "#r \"nuget:Microsoft.DotNet.Interactive.PowerShell,1.0.0-beta.22175.2\"\n",
    "#r \"nuget:Microsoft.DotNet.Interactive.Http,1.0.0-beta.22175.2\"\n",
    "\n",
    "#r \"nuget:FSharp.Core, *-*\"\n",
    "#r \"nuget:Plotly.NET,*-*\"\n",
    "#r \"nuget: Plotly.NET.Interactive, *-*\"\n",
    "using Plotly.NET;"
   ]
  },
  {
   "cell_type": "code",
   "execution_count": null,
   "metadata": {
    "dotnet_interactive": {
     "language": "csharp"
    },
    "vscode": {
     "languageId": "dotnet-interactive.csharp"
    }
   },
   "outputs": [],
   "source": [
    "#!connect mssql --kernel-name splSnapshots \"Server=localhost;Database=SeattlePublicLibraryOpenData;Trusted_Connection=True;TrustServerCertificate=true;\""
   ]
  },
  {
   "cell_type": "code",
   "execution_count": null,
   "metadata": {
    "dotnet_interactive": {
     "language": "html"
    },
    "vscode": {
     "languageId": "dotnet-interactive.html"
    }
   },
   "outputs": [],
   "source": [
    "<style>\n",
    "pre {\n",
    "    overflow-x: scroll\n",
    "}\n",
    "</style>"
   ]
  },
  {
   "cell_type": "code",
   "execution_count": null,
   "metadata": {
    "dotnet_interactive": {
     "language": "sql"
    },
    "vscode": {
     "languageId": "dotnet-interactive.sql"
    }
   },
   "outputs": [],
   "source": [
    "#!sql-splSnapshots --name itemTypeAgeGroup\n",
    "\n",
    "\n",
    ";WITH ageGroup_cte\n",
    "AS (SELECT\n",
    "  ReportDate,\n",
    "  AgeGroup,\n",
    "  COUNT(DISTINCT bibnum) AS ItemCount,\n",
    "  SUM(ei.itemcount) AS InventoryCount\n",
    "\n",
    "FROM ElementInventory ei\n",
    "INNER JOIN ItemType it\n",
    "  ON ei.ItemTypeCode = it.Code\n",
    "WHERE ei.ItemCount > 0\n",
    "GROUP BY ReportDate,\n",
    "         AgeGroup),\n",
    "calculatedReportDateTotal_cte\n",
    "AS (SELECT\n",
    "  ReportDate,\n",
    "  SUM(itemcount) AS itemCountSum,\n",
    "  SUM(inventoryCount) AS inventoryCountSum\n",
    "FROM ageGroup_cte\n",
    "GROUP BY ReportDate)\n",
    "SELECT\n",
    "  r.ReportDate,\n",
    "  AgeGroup,\n",
    "  CAST(ItemCount AS float) / itemCountSum * 100 AS AgeGroupItemPercentage,\n",
    "  CAST(InventoryCount AS float) / inventoryCountSum * 100 AS AgeGroupInventoryPercentage\n",
    "\n",
    "FROM calculatedReportDateTotal_cte r\n",
    "INNER JOIN ageGroup_cte a\n",
    "  ON a.ReportDate = r.ReportDate\n",
    "\n",
    "ORDER BY ReportDate, AgeGroup\n",
    "\n",
    "\n"
   ]
  },
  {
   "cell_type": "code",
   "execution_count": null,
   "metadata": {
    "dotnet_interactive": {
     "language": "csharp"
    },
    "vscode": {
     "languageId": "dotnet-interactive.csharp"
    }
   },
   "outputs": [
    {
     "data": {
      "text/html": [
       "<a id=\"ageGroup\"></a>\r\n",
       "\r\n",
       "\r\n"
      ]
     },
     "metadata": {},
     "output_type": "display_data"
    },
    {
     "data": {
      "text/html": [
       "\r\n",
       "<div>\r\n",
       "    <div id=\"69dafd1e-f075-477e-8694-8c193a8ef9a2\"><!-- Plotly chart will be drawn inside this DIV --></div>\r\n",
       "<script type=\"text/javascript\">\r\n",
       "\r\n",
       "            var renderPlotly_69dafd1ef075477e86948c193a8ef9a2 = function() {\r\n",
       "            var fsharpPlotlyRequire = requirejs.config({context:'fsharp-plotly',paths:{plotly:'https://cdn.plot.ly/plotly-2.6.3.min'}}) || require;\r\n",
       "            fsharpPlotlyRequire(['plotly'], function(Plotly) {\r\n",
       "\r\n",
       "            var data = [{\"type\":\"bar\",\"x\":[[\"2017\",\"2017\",\"2018\",\"2018\",\"2019\",\"2019\",\"2020\",\"2020\",\"2021\",\"2021\",\"2022\",\"2022\"],[\"Item Percentage\",\"Inventory Percentage\",\"Item Percentage\",\"Inventory Percentage\",\"Item Percentage\",\"Inventory Percentage\",\"Item Percentage\",\"Inventory Percentage\",\"Item Percentage\",\"Inventory Percentage\",\"Item Percentage\",\"Inventory Percentage\"]],\"y\":[89.08382530499375,76.83238672586884,87.28915645206678,73.72404164700504,88.7649885441778,76.33657201606331,89.89176629194094,78.06550880353045,89.77467474160117,77.90140716304033,89.73504168023112,77.94811471086322],\"name\":\"Adult\"},{\"type\":\"bar\",\"x\":[[\"2017\",\"2017\",\"2018\",\"2018\",\"2019\",\"2019\",\"2020\",\"2020\",\"2021\",\"2021\",\"2022\",\"2022\"],[\"Item Percentage\",\"Inventory Percentage\",\"Item Percentage\",\"Inventory Percentage\",\"Item Percentage\",\"Inventory Percentage\",\"Item Percentage\",\"Inventory Percentage\",\"Item Percentage\",\"Inventory Percentage\",\"Item Percentage\",\"Inventory Percentage\"]],\"y\":[10.916174695006234,23.167613274131156,12.71084354793323,26.275958352994962,11.235011455822201,23.66342798393669,10.108233708059062,21.93449119646957,10.225325258398833,22.098592836959682,10.264958319768876,22.05188528913677],\"name\":\"Juvenile\"}];\r\n",
       "            var layout = {\"width\":1500,\"height\":600,\"template\":{\"layout\":{\"title\":{\"x\":0.05},\"font\":{\"color\":\"rgba(42, 63, 95, 1.0)\"},\"paper_bgcolor\":\"rgba(255, 255, 255, 1.0)\",\"plot_bgcolor\":\"rgba(229, 236, 246, 1.0)\",\"autotypenumbers\":\"strict\",\"colorscale\":{\"diverging\":[[0.0,\"#8e0152\"],[0.1,\"#c51b7d\"],[0.2,\"#de77ae\"],[0.3,\"#f1b6da\"],[0.4,\"#fde0ef\"],[0.5,\"#f7f7f7\"],[0.6,\"#e6f5d0\"],[0.7,\"#b8e186\"],[0.8,\"#7fbc41\"],[0.9,\"#4d9221\"],[1.0,\"#276419\"]],\"sequential\":[[0.0,\"#0d0887\"],[0.1111111111111111,\"#46039f\"],[0.2222222222222222,\"#7201a8\"],[0.3333333333333333,\"#9c179e\"],[0.4444444444444444,\"#bd3786\"],[0.5555555555555556,\"#d8576b\"],[0.6666666666666666,\"#ed7953\"],[0.7777777777777778,\"#fb9f3a\"],[0.8888888888888888,\"#fdca26\"],[1.0,\"#f0f921\"]],\"sequentialminus\":[[0.0,\"#0d0887\"],[0.1111111111111111,\"#46039f\"],[0.2222222222222222,\"#7201a8\"],[0.3333333333333333,\"#9c179e\"],[0.4444444444444444,\"#bd3786\"],[0.5555555555555556,\"#d8576b\"],[0.6666666666666666,\"#ed7953\"],[0.7777777777777778,\"#fb9f3a\"],[0.8888888888888888,\"#fdca26\"],[1.0,\"#f0f921\"]]},\"hovermode\":\"closest\",\"hoverlabel\":{\"align\":\"left\"},\"coloraxis\":{\"colorbar\":{\"outlinewidth\":0.0,\"ticks\":\"\"}},\"geo\":{\"showland\":true,\"landcolor\":\"rgba(229, 236, 246, 1.0)\",\"showlakes\":true,\"lakecolor\":\"rgba(255, 255, 255, 1.0)\",\"subunitcolor\":\"rgba(255, 255, 255, 1.0)\",\"bgcolor\":\"rgba(255, 255, 255, 1.0)\"},\"mapbox\":{\"style\":\"light\"},\"polar\":{\"bgcolor\":\"rgba(229, 236, 246, 1.0)\",\"radialaxis\":{\"linecolor\":\"rgba(255, 255, 255, 1.0)\",\"gridcolor\":\"rgba(255, 255, 255, 1.0)\",\"ticks\":\"\"},\"angularaxis\":{\"linecolor\":\"rgba(255, 255, 255, 1.0)\",\"gridcolor\":\"rgba(255, 255, 255, 1.0)\",\"ticks\":\"\"}},\"scene\":{\"xaxis\":{\"ticks\":\"\",\"linecolor\":\"rgba(255, 255, 255, 1.0)\",\"gridcolor\":\"rgba(255, 255, 255, 1.0)\",\"gridwidth\":2.0,\"zerolinecolor\":\"rgba(255, 255, 255, 1.0)\",\"backgroundcolor\":\"rgba(229, 236, 246, 1.0)\",\"showbackground\":true},\"yaxis\":{\"ticks\":\"\",\"linecolor\":\"rgba(255, 255, 255, 1.0)\",\"gridcolor\":\"rgba(255, 255, 255, 1.0)\",\"gridwidth\":2.0,\"zerolinecolor\":\"rgba(255, 255, 255, 1.0)\",\"backgroundcolor\":\"rgba(229, 236, 246, 1.0)\",\"showbackground\":true},\"zaxis\":{\"ticks\":\"\",\"linecolor\":\"rgba(255, 255, 255, 1.0)\",\"gridcolor\":\"rgba(255, 255, 255, 1.0)\",\"gridwidth\":2.0,\"zerolinecolor\":\"rgba(255, 255, 255, 1.0)\",\"backgroundcolor\":\"rgba(229, 236, 246, 1.0)\",\"showbackground\":true}},\"ternary\":{\"aaxis\":{\"ticks\":\"\",\"linecolor\":\"rgba(255, 255, 255, 1.0)\",\"gridcolor\":\"rgba(255, 255, 255, 1.0)\"},\"baxis\":{\"ticks\":\"\",\"linecolor\":\"rgba(255, 255, 255, 1.0)\",\"gridcolor\":\"rgba(255, 255, 255, 1.0)\"},\"caxis\":{\"ticks\":\"\",\"linecolor\":\"rgba(255, 255, 255, 1.0)\",\"gridcolor\":\"rgba(255, 255, 255, 1.0)\"},\"bgcolor\":\"rgba(229, 236, 246, 1.0)\"},\"xaxis\":{\"title\":{\"standoff\":15},\"ticks\":\"\",\"automargin\":true,\"linecolor\":\"rgba(255, 255, 255, 1.0)\",\"gridcolor\":\"rgba(255, 255, 255, 1.0)\",\"zerolinecolor\":\"rgba(255, 255, 255, 1.0)\",\"zerolinewidth\":2.0},\"yaxis\":{\"title\":{\"standoff\":15},\"ticks\":\"\",\"automargin\":true,\"linecolor\":\"rgba(255, 255, 255, 1.0)\",\"gridcolor\":\"rgba(255, 255, 255, 1.0)\",\"zerolinecolor\":\"rgba(255, 255, 255, 1.0)\",\"zerolinewidth\":2.0},\"annotationdefaults\":{\"arrowcolor\":\"#2a3f5f\",\"arrowhead\":0,\"arrowwidth\":1},\"shapedefaults\":{\"line\":{\"color\":\"rgba(42, 63, 95, 1.0)\"}},\"colorway\":[\"rgba(99, 110, 250, 1.0)\",\"rgba(239, 85, 59, 1.0)\",\"rgba(0, 204, 150, 1.0)\",\"rgba(171, 99, 250, 1.0)\",\"rgba(255, 161, 90, 1.0)\",\"rgba(25, 211, 243, 1.0)\",\"rgba(255, 102, 146, 1.0)\",\"rgba(182, 232, 128, 1.0)\",\"rgba(255, 151, 255, 1.0)\",\"rgba(254, 203, 82, 1.0)\"]},\"data\":{\"bar\":[{\"marker\":{\"line\":{\"color\":\"rgba(229, 236, 246, 1.0)\",\"width\":0.5},\"pattern\":{\"fillmode\":\"overlay\",\"size\":10,\"solidity\":0.2}},\"error_x\":{\"color\":\"rgba(42, 63, 95, 1.0)\"},\"error_y\":{\"color\":\"rgba(42, 63, 95, 1.0)\"}}],\"barpolar\":[{\"marker\":{\"line\":{\"color\":\"rgba(229, 236, 246, 1.0)\",\"width\":0.5},\"pattern\":{\"fillmode\":\"overlay\",\"size\":10,\"solidity\":0.2}}}],\"carpet\":[{\"aaxis\":{\"linecolor\":\"rgba(255, 255, 255, 1.0)\",\"gridcolor\":\"rgba(255, 255, 255, 1.0)\",\"endlinecolor\":\"rgba(42, 63, 95, 1.0)\",\"minorgridcolor\":\"rgba(255, 255, 255, 1.0)\",\"startlinecolor\":\"rgba(42, 63, 95, 1.0)\"},\"baxis\":{\"linecolor\":\"rgba(255, 255, 255, 1.0)\",\"gridcolor\":\"rgba(255, 255, 255, 1.0)\",\"endlinecolor\":\"rgba(42, 63, 95, 1.0)\",\"minorgridcolor\":\"rgba(255, 255, 255, 1.0)\",\"startlinecolor\":\"rgba(42, 63, 95, 1.0)\"}}],\"choropleth\":[{\"colorbar\":{\"outlinewidth\":0.0,\"ticks\":\"\"},\"colorscale\":[[0.0,\"#0d0887\"],[0.1111111111111111,\"#46039f\"],[0.2222222222222222,\"#7201a8\"],[0.3333333333333333,\"#9c179e\"],[0.4444444444444444,\"#bd3786\"],[0.5555555555555556,\"#d8576b\"],[0.6666666666666666,\"#ed7953\"],[0.7777777777777778,\"#fb9f3a\"],[0.8888888888888888,\"#fdca26\"],[1.0,\"#f0f921\"]]}],\"contour\":[{\"colorbar\":{\"outlinewidth\":0.0,\"ticks\":\"\"},\"colorscale\":[[0.0,\"#0d0887\"],[0.1111111111111111,\"#46039f\"],[0.2222222222222222,\"#7201a8\"],[0.3333333333333333,\"#9c179e\"],[0.4444444444444444,\"#bd3786\"],[0.5555555555555556,\"#d8576b\"],[0.6666666666666666,\"#ed7953\"],[0.7777777777777778,\"#fb9f3a\"],[0.8888888888888888,\"#fdca26\"],[1.0,\"#f0f921\"]]}],\"contourcarpet\":[{\"colorbar\":{\"outlinewidth\":0.0,\"ticks\":\"\"}}],\"heatmap\":[{\"colorbar\":{\"outlinewidth\":0.0,\"ticks\":\"\"},\"colorscale\":[[0.0,\"#0d0887\"],[0.1111111111111111,\"#46039f\"],[0.2222222222222222,\"#7201a8\"],[0.3333333333333333,\"#9c179e\"],[0.4444444444444444,\"#bd3786\"],[0.5555555555555556,\"#d8576b\"],[0.6666666666666666,\"#ed7953\"],[0.7777777777777778,\"#fb9f3a\"],[0.8888888888888888,\"#fdca26\"],[1.0,\"#f0f921\"]]}],\"heatmapgl\":[{\"colorbar\":{\"outlinewidth\":0.0,\"ticks\":\"\"},\"colorscale\":[[0.0,\"#0d0887\"],[0.1111111111111111,\"#46039f\"],[0.2222222222222222,\"#7201a8\"],[0.3333333333333333,\"#9c179e\"],[0.4444444444444444,\"#bd3786\"],[0.5555555555555556,\"#d8576b\"],[0.6666666666666666,\"#ed7953\"],[0.7777777777777778,\"#fb9f3a\"],[0.8888888888888888,\"#fdca26\"],[1.0,\"#f0f921\"]]}],\"histogram\":[{\"marker\":{\"pattern\":{\"fillmode\":\"overlay\",\"size\":10,\"solidity\":0.2}}}],\"histogram2d\":[{\"colorbar\":{\"outlinewidth\":0.0,\"ticks\":\"\"},\"colorscale\":[[0.0,\"#0d0887\"],[0.1111111111111111,\"#46039f\"],[0.2222222222222222,\"#7201a8\"],[0.3333333333333333,\"#9c179e\"],[0.4444444444444444,\"#bd3786\"],[0.5555555555555556,\"#d8576b\"],[0.6666666666666666,\"#ed7953\"],[0.7777777777777778,\"#fb9f3a\"],[0.8888888888888888,\"#fdca26\"],[1.0,\"#f0f921\"]]}],\"histogram2dcontour\":[{\"colorbar\":{\"outlinewidth\":0.0,\"ticks\":\"\"},\"colorscale\":[[0.0,\"#0d0887\"],[0.1111111111111111,\"#46039f\"],[0.2222222222222222,\"#7201a8\"],[0.3333333333333333,\"#9c179e\"],[0.4444444444444444,\"#bd3786\"],[0.5555555555555556,\"#d8576b\"],[0.6666666666666666,\"#ed7953\"],[0.7777777777777778,\"#fb9f3a\"],[0.8888888888888888,\"#fdca26\"],[1.0,\"#f0f921\"]]}],\"mesh3d\":[{\"colorbar\":{\"outlinewidth\":0.0,\"ticks\":\"\"}}],\"parcoords\":[{\"line\":{\"colorbar\":{\"outlinewidth\":0.0,\"ticks\":\"\"}}}],\"pie\":[{\"automargin\":true}],\"scatter\":[{\"marker\":{\"colorbar\":{\"outlinewidth\":0.0,\"ticks\":\"\"}}}],\"scatter3d\":[{\"marker\":{\"colorbar\":{\"outlinewidth\":0.0,\"ticks\":\"\"}},\"line\":{\"colorbar\":{\"outlinewidth\":0.0,\"ticks\":\"\"}}}],\"scattercarpet\":[{\"marker\":{\"colorbar\":{\"outlinewidth\":0.0,\"ticks\":\"\"}}}],\"scattergeo\":[{\"marker\":{\"colorbar\":{\"outlinewidth\":0.0,\"ticks\":\"\"}}}],\"scattergl\":[{\"marker\":{\"colorbar\":{\"outlinewidth\":0.0,\"ticks\":\"\"}}}],\"scattermapbox\":[{\"marker\":{\"colorbar\":{\"outlinewidth\":0.0,\"ticks\":\"\"}}}],\"scatterpolar\":[{\"marker\":{\"colorbar\":{\"outlinewidth\":0.0,\"ticks\":\"\"}}}],\"scatterpolargl\":[{\"marker\":{\"colorbar\":{\"outlinewidth\":0.0,\"ticks\":\"\"}}}],\"scatterternary\":[{\"marker\":{\"colorbar\":{\"outlinewidth\":0.0,\"ticks\":\"\"}}}],\"surface\":[{\"colorbar\":{\"outlinewidth\":0.0,\"ticks\":\"\"},\"colorscale\":[[0.0,\"#0d0887\"],[0.1111111111111111,\"#46039f\"],[0.2222222222222222,\"#7201a8\"],[0.3333333333333333,\"#9c179e\"],[0.4444444444444444,\"#bd3786\"],[0.5555555555555556,\"#d8576b\"],[0.6666666666666666,\"#ed7953\"],[0.7777777777777778,\"#fb9f3a\"],[0.8888888888888888,\"#fdca26\"],[1.0,\"#f0f921\"]]}],\"table\":[{\"cells\":{\"fill\":{\"color\":\"rgba(235, 240, 248, 1.0)\"},\"line\":{\"color\":\"rgba(255, 255, 255, 1.0)\"}},\"header\":{\"fill\":{\"color\":\"rgba(200, 212, 227, 1.0)\"},\"line\":{\"color\":\"rgba(255, 255, 255, 1.0)\"}}}]}},\"title\":{\"text\":\"Age Group Composition %\"},\"colorway\":[\"rgba(100, 149, 237, 1.0)\",\"rgba(46, 139, 87, 1.0)\"],\"dragmode\":\"pan\",\"barmode\":\"stack\"};\r\n",
       "            var config = {\"responsive\":true};\r\n",
       "            Plotly.newPlot('69dafd1e-f075-477e-8694-8c193a8ef9a2', data, layout, config);\r\n",
       "});\r\n",
       "            };\r\n",
       "            if ((typeof(requirejs) !==  typeof(Function)) || (typeof(requirejs.config) !== typeof(Function))) {\r\n",
       "                var script = document.createElement(\"script\");\r\n",
       "                script.setAttribute(\"src\", \"https://cdnjs.cloudflare.com/ajax/libs/require.js/2.3.6/require.min.js\");\r\n",
       "                script.onload = function(){\r\n",
       "                    renderPlotly_69dafd1ef075477e86948c193a8ef9a2();\r\n",
       "                };\r\n",
       "                document.getElementsByTagName(\"head\")[0].appendChild(script);\r\n",
       "            }\r\n",
       "            else {\r\n",
       "                renderPlotly_69dafd1ef075477e86948c193a8ef9a2();\r\n",
       "            }\r\n",
       "</script>\r\n",
       "\r\n",
       "    \r\n",
       "</div    \r\n"
      ]
     },
     "metadata": {},
     "output_type": "display_data"
    }
   ],
   "source": [
    "#!share --from sql-splSnapshots itemTypeAgeGroup\n",
    "\n",
    "using System.Linq;\n",
    "using Microsoft.FSharp.Core;\n",
    "using Plotly.NET;\n",
    "using Plotly.NET.LayoutObjects;\n",
    "\n",
    "string[] years = (itemTypeAgeGroup[0].Data.GroupBy(x=>((DateTime)x[\"ReportDate\"]).Year).OrderBy(x=>x.Key.ToString())\n",
    ".SelectMany(x=>new string[]{x.Key.ToString(), x.Key.ToString()})).ToArray();\n",
    "\n",
    "string[] inventoryCategory = (Enumerable.Repeat(new string[]{\"Item Percentage\", \"Inventory Percentage\"}, years.Length/2).SelectMany(x=>x)).ToArray();\n",
    "List<Trace> traces = new();\n",
    "\n",
    "foreach(var g in itemTypeAgeGroup[0].Data.GroupBy(x=> x[\"AgeGroup\"]).OrderBy(x=>x.Key.ToString())){\n",
    "\n",
    "    var itemPercentages = g.GroupBy(x=>((DateTime)x[\"ReportDate\"]).Year).Select(x=> x.Average(x=>(double)x[\"AgeGroupItemPercentage\"]));\n",
    "    var inventoryPercentages = g.GroupBy(x=>((DateTime)x[\"ReportDate\"]).Year).Select(x=> x.Average(x=>(double)x[\"AgeGroupInventoryPercentage\"]));\n",
    "\n",
    "    Trace t = new Trace(\"bar\");\n",
    "    t.SetValue(\"x\", new string[][]{years, inventoryCategory} );\n",
    "    t.SetValue(\"y\", itemPercentages.Zip(inventoryPercentages, (x,y) => new double[]{x,y}).SelectMany(x=> x));\n",
    "    t.SetValue(\"name\", g.Key.ToString());\n",
    "    traces.Add(t);\n",
    "}\n",
    "var layout = Layout.init<int>(\n",
    "    Title: Title.init(\"Age Group Composition %\"),\n",
    "    Width:1500,\n",
    "    DragMode:StyleParam.DragMode.Pan,\n",
    "    BarMode:StyleParam.BarMode.Stack\n",
    "    ,    Colorway: Color.fromColors(\n",
    "        new List<Color>() { Color.fromKeyword(ColorKeyword.CornflowerBlue), Color.fromKeyword(ColorKeyword.SeaGreen)})\n",
    ");\n",
    "\n",
    "#!html\n",
    "<a id=\"ageGroup\"></a>\n",
    "\n",
    "\n",
    "#!csharp\n",
    "\n",
    "GenericChart.combine(new GenericChart.GenericChart[]{GenericChart.ofTraceObject(true, traces[0]), GenericChart.ofTraceObject(true, traces[1])})\n",
    ".WithLayout(layout)"
   ]
  },
  {
   "cell_type": "code",
   "execution_count": null,
   "metadata": {
    "dotnet_interactive": {
     "language": "sql"
    },
    "vscode": {
     "languageId": "dotnet-interactive.sql"
    }
   },
   "outputs": [],
   "source": [
    "#!sql-splSnapshots --name itemTypeFormat\n",
    "\n",
    ";WITH formatGroup_cte\n",
    "AS (SELECT ReportDate,\n",
    "       FormatGroup,\n",
    "       Count(DISTINCT bibnum) as ItemCount,\n",
    "       Sum(ei.itemcount) as InventoryCount\n",
    "FROM   ElementInventory ei\n",
    "       INNER JOIN ItemType it\n",
    "               ON ei.ItemTypeCode = it.Code\n",
    "WHERE ei.ItemCount > 0\n",
    "GROUP  BY ReportDate,\n",
    "          FormatGroup),\n",
    "calculatedReportDateTotal_cte\n",
    "AS (SELECT\n",
    "  ReportDate,\n",
    "  SUM(itemcount) AS itemCountSum,\n",
    "  SUM(inventoryCount) AS inventoryCountSum\n",
    "FROM formatGroup_cte\n",
    "GROUP BY ReportDate)\n",
    "SELECT\n",
    "  r.ReportDate,\n",
    "  FormatGroup,\n",
    "  CAST(ItemCount AS float) / itemCountSum * 100 AS FormatGroupItemPercentage,\n",
    "  CAST(InventoryCount AS float) / inventoryCountSum * 100 AS FormatGroupInventoryPercentage\n",
    "\n",
    "FROM calculatedReportDateTotal_cte r\n",
    "INNER JOIN FormatGroup_cte a\n",
    "  ON a.ReportDate = r.ReportDate\n",
    "\n",
    "ORDER BY ReportDate, FormatGroup\n",
    "\n",
    "\n"
   ]
  },
  {
   "cell_type": "code",
   "execution_count": null,
   "metadata": {
    "dotnet_interactive": {
     "language": "csharp"
    },
    "vscode": {
     "languageId": "dotnet-interactive.csharp"
    }
   },
   "outputs": [
    {
     "data": {
      "text/html": [
       "<a id=\"formatGroup\"></a>\r\n",
       "\r\n",
       "\r\n"
      ]
     },
     "metadata": {},
     "output_type": "display_data"
    },
    {
     "data": {
      "text/html": [
       "\r\n",
       "<div>\r\n",
       "    <div id=\"fdc8bb06-e464-4a30-8d11-50ef86dd16c9\"><!-- Plotly chart will be drawn inside this DIV --></div>\r\n",
       "<script type=\"text/javascript\">\r\n",
       "\r\n",
       "            var renderPlotly_fdc8bb06e4644a308d1150ef86dd16c9 = function() {\r\n",
       "            var fsharpPlotlyRequire = requirejs.config({context:'fsharp-plotly',paths:{plotly:'https://cdn.plot.ly/plotly-2.6.3.min'}}) || require;\r\n",
       "            fsharpPlotlyRequire(['plotly'], function(Plotly) {\r\n",
       "\r\n",
       "            var data = [{\"type\":\"bar\",\"x\":[[\"2017\",\"2017\",\"2018\",\"2018\",\"2019\",\"2019\",\"2020\",\"2020\",\"2021\",\"2021\",\"2022\",\"2022\"],[\"Item Percentage\",\"Inventory Percentage\",\"Item Percentage\",\"Inventory Percentage\",\"Item Percentage\",\"Inventory Percentage\",\"Item Percentage\",\"Inventory Percentage\",\"Item Percentage\",\"Inventory Percentage\",\"Item Percentage\",\"Inventory Percentage\"]],\"y\":[0.0010637216321760584,0.058521541687555,0.0012590594574431629,0.0788677556779754,0.0013497437299940015,0.0791782121409962,0.0015368738661861827,0.07947490049087937,0.0015842946920813904,0.08781286010366522,0.001875849358661316,0.09802182211874282],\"name\":\"Equipment\"},{\"type\":\"bar\",\"x\":[[\"2017\",\"2017\",\"2018\",\"2018\",\"2019\",\"2019\",\"2020\",\"2020\",\"2021\",\"2021\",\"2022\",\"2022\"],[\"Item Percentage\",\"Inventory Percentage\",\"Item Percentage\",\"Inventory Percentage\",\"Item Percentage\",\"Inventory Percentage\",\"Item Percentage\",\"Inventory Percentage\",\"Item Percentage\",\"Inventory Percentage\",\"Item Percentage\",\"Inventory Percentage\"]],\"y\":[16.732131730320212,18.69337376368912,11.543021259135683,15.840560880668905,16.331369141744588,16.81146239188198,19.581806129832188,16.974827099638272,19.423415382120464,16.467393190755505,19.23163261214227,15.902661153622509],\"name\":\"Media\"},{\"type\":\"bar\",\"x\":[[\"2017\",\"2017\",\"2018\",\"2018\",\"2019\",\"2019\",\"2020\",\"2020\",\"2021\",\"2021\",\"2022\",\"2022\"],[\"Item Percentage\",\"Inventory Percentage\",\"Item Percentage\",\"Inventory Percentage\",\"Item Percentage\",\"Inventory Percentage\",\"Item Percentage\",\"Inventory Percentage\",\"Item Percentage\",\"Inventory Percentage\",\"Item Percentage\",\"Inventory Percentage\"]],\"y\":[0.012366374290998485,0.004398275563285953,0.011945180815989095,0.004247641300487744,0.009706242043682653,0.003497268038881986],\"name\":\"Other\"},{\"type\":\"bar\",\"x\":[[\"2017\",\"2017\",\"2018\",\"2018\",\"2019\",\"2019\",\"2020\",\"2020\",\"2021\",\"2021\",\"2022\",\"2022\"],[\"Item Percentage\",\"Inventory Percentage\",\"Item Percentage\",\"Inventory Percentage\",\"Item Percentage\",\"Inventory Percentage\",\"Item Percentage\",\"Inventory Percentage\",\"Item Percentage\",\"Inventory Percentage\",\"Item Percentage\",\"Inventory Percentage\"]],\"y\":[83.26268242328395,81.2466386027689,88.44377450059086,84.07632372235264,83.66242799350358,83.10761076195759,80.41665699630163,82.94569799987086,80.57500032318745,83.44479394914083,80.76649153849908,83.99931702425874],\"name\":\"Print\"}];\r\n",
       "            var layout = {\"width\":1500,\"height\":600,\"template\":{\"layout\":{\"title\":{\"x\":0.05},\"font\":{\"color\":\"rgba(42, 63, 95, 1.0)\"},\"paper_bgcolor\":\"rgba(255, 255, 255, 1.0)\",\"plot_bgcolor\":\"rgba(229, 236, 246, 1.0)\",\"autotypenumbers\":\"strict\",\"colorscale\":{\"diverging\":[[0.0,\"#8e0152\"],[0.1,\"#c51b7d\"],[0.2,\"#de77ae\"],[0.3,\"#f1b6da\"],[0.4,\"#fde0ef\"],[0.5,\"#f7f7f7\"],[0.6,\"#e6f5d0\"],[0.7,\"#b8e186\"],[0.8,\"#7fbc41\"],[0.9,\"#4d9221\"],[1.0,\"#276419\"]],\"sequential\":[[0.0,\"#0d0887\"],[0.1111111111111111,\"#46039f\"],[0.2222222222222222,\"#7201a8\"],[0.3333333333333333,\"#9c179e\"],[0.4444444444444444,\"#bd3786\"],[0.5555555555555556,\"#d8576b\"],[0.6666666666666666,\"#ed7953\"],[0.7777777777777778,\"#fb9f3a\"],[0.8888888888888888,\"#fdca26\"],[1.0,\"#f0f921\"]],\"sequentialminus\":[[0.0,\"#0d0887\"],[0.1111111111111111,\"#46039f\"],[0.2222222222222222,\"#7201a8\"],[0.3333333333333333,\"#9c179e\"],[0.4444444444444444,\"#bd3786\"],[0.5555555555555556,\"#d8576b\"],[0.6666666666666666,\"#ed7953\"],[0.7777777777777778,\"#fb9f3a\"],[0.8888888888888888,\"#fdca26\"],[1.0,\"#f0f921\"]]},\"hovermode\":\"closest\",\"hoverlabel\":{\"align\":\"left\"},\"coloraxis\":{\"colorbar\":{\"outlinewidth\":0.0,\"ticks\":\"\"}},\"geo\":{\"showland\":true,\"landcolor\":\"rgba(229, 236, 246, 1.0)\",\"showlakes\":true,\"lakecolor\":\"rgba(255, 255, 255, 1.0)\",\"subunitcolor\":\"rgba(255, 255, 255, 1.0)\",\"bgcolor\":\"rgba(255, 255, 255, 1.0)\"},\"mapbox\":{\"style\":\"light\"},\"polar\":{\"bgcolor\":\"rgba(229, 236, 246, 1.0)\",\"radialaxis\":{\"linecolor\":\"rgba(255, 255, 255, 1.0)\",\"gridcolor\":\"rgba(255, 255, 255, 1.0)\",\"ticks\":\"\"},\"angularaxis\":{\"linecolor\":\"rgba(255, 255, 255, 1.0)\",\"gridcolor\":\"rgba(255, 255, 255, 1.0)\",\"ticks\":\"\"}},\"scene\":{\"xaxis\":{\"ticks\":\"\",\"linecolor\":\"rgba(255, 255, 255, 1.0)\",\"gridcolor\":\"rgba(255, 255, 255, 1.0)\",\"gridwidth\":2.0,\"zerolinecolor\":\"rgba(255, 255, 255, 1.0)\",\"backgroundcolor\":\"rgba(229, 236, 246, 1.0)\",\"showbackground\":true},\"yaxis\":{\"ticks\":\"\",\"linecolor\":\"rgba(255, 255, 255, 1.0)\",\"gridcolor\":\"rgba(255, 255, 255, 1.0)\",\"gridwidth\":2.0,\"zerolinecolor\":\"rgba(255, 255, 255, 1.0)\",\"backgroundcolor\":\"rgba(229, 236, 246, 1.0)\",\"showbackground\":true},\"zaxis\":{\"ticks\":\"\",\"linecolor\":\"rgba(255, 255, 255, 1.0)\",\"gridcolor\":\"rgba(255, 255, 255, 1.0)\",\"gridwidth\":2.0,\"zerolinecolor\":\"rgba(255, 255, 255, 1.0)\",\"backgroundcolor\":\"rgba(229, 236, 246, 1.0)\",\"showbackground\":true}},\"ternary\":{\"aaxis\":{\"ticks\":\"\",\"linecolor\":\"rgba(255, 255, 255, 1.0)\",\"gridcolor\":\"rgba(255, 255, 255, 1.0)\"},\"baxis\":{\"ticks\":\"\",\"linecolor\":\"rgba(255, 255, 255, 1.0)\",\"gridcolor\":\"rgba(255, 255, 255, 1.0)\"},\"caxis\":{\"ticks\":\"\",\"linecolor\":\"rgba(255, 255, 255, 1.0)\",\"gridcolor\":\"rgba(255, 255, 255, 1.0)\"},\"bgcolor\":\"rgba(229, 236, 246, 1.0)\"},\"xaxis\":{\"title\":{\"standoff\":15},\"ticks\":\"\",\"automargin\":true,\"linecolor\":\"rgba(255, 255, 255, 1.0)\",\"gridcolor\":\"rgba(255, 255, 255, 1.0)\",\"zerolinecolor\":\"rgba(255, 255, 255, 1.0)\",\"zerolinewidth\":2.0},\"yaxis\":{\"title\":{\"standoff\":15},\"ticks\":\"\",\"automargin\":true,\"linecolor\":\"rgba(255, 255, 255, 1.0)\",\"gridcolor\":\"rgba(255, 255, 255, 1.0)\",\"zerolinecolor\":\"rgba(255, 255, 255, 1.0)\",\"zerolinewidth\":2.0},\"annotationdefaults\":{\"arrowcolor\":\"#2a3f5f\",\"arrowhead\":0,\"arrowwidth\":1},\"shapedefaults\":{\"line\":{\"color\":\"rgba(42, 63, 95, 1.0)\"}},\"colorway\":[\"rgba(99, 110, 250, 1.0)\",\"rgba(239, 85, 59, 1.0)\",\"rgba(0, 204, 150, 1.0)\",\"rgba(171, 99, 250, 1.0)\",\"rgba(255, 161, 90, 1.0)\",\"rgba(25, 211, 243, 1.0)\",\"rgba(255, 102, 146, 1.0)\",\"rgba(182, 232, 128, 1.0)\",\"rgba(255, 151, 255, 1.0)\",\"rgba(254, 203, 82, 1.0)\"]},\"data\":{\"bar\":[{\"marker\":{\"line\":{\"color\":\"rgba(229, 236, 246, 1.0)\",\"width\":0.5},\"pattern\":{\"fillmode\":\"overlay\",\"size\":10,\"solidity\":0.2}},\"error_x\":{\"color\":\"rgba(42, 63, 95, 1.0)\"},\"error_y\":{\"color\":\"rgba(42, 63, 95, 1.0)\"}}],\"barpolar\":[{\"marker\":{\"line\":{\"color\":\"rgba(229, 236, 246, 1.0)\",\"width\":0.5},\"pattern\":{\"fillmode\":\"overlay\",\"size\":10,\"solidity\":0.2}}}],\"carpet\":[{\"aaxis\":{\"linecolor\":\"rgba(255, 255, 255, 1.0)\",\"gridcolor\":\"rgba(255, 255, 255, 1.0)\",\"endlinecolor\":\"rgba(42, 63, 95, 1.0)\",\"minorgridcolor\":\"rgba(255, 255, 255, 1.0)\",\"startlinecolor\":\"rgba(42, 63, 95, 1.0)\"},\"baxis\":{\"linecolor\":\"rgba(255, 255, 255, 1.0)\",\"gridcolor\":\"rgba(255, 255, 255, 1.0)\",\"endlinecolor\":\"rgba(42, 63, 95, 1.0)\",\"minorgridcolor\":\"rgba(255, 255, 255, 1.0)\",\"startlinecolor\":\"rgba(42, 63, 95, 1.0)\"}}],\"choropleth\":[{\"colorbar\":{\"outlinewidth\":0.0,\"ticks\":\"\"},\"colorscale\":[[0.0,\"#0d0887\"],[0.1111111111111111,\"#46039f\"],[0.2222222222222222,\"#7201a8\"],[0.3333333333333333,\"#9c179e\"],[0.4444444444444444,\"#bd3786\"],[0.5555555555555556,\"#d8576b\"],[0.6666666666666666,\"#ed7953\"],[0.7777777777777778,\"#fb9f3a\"],[0.8888888888888888,\"#fdca26\"],[1.0,\"#f0f921\"]]}],\"contour\":[{\"colorbar\":{\"outlinewidth\":0.0,\"ticks\":\"\"},\"colorscale\":[[0.0,\"#0d0887\"],[0.1111111111111111,\"#46039f\"],[0.2222222222222222,\"#7201a8\"],[0.3333333333333333,\"#9c179e\"],[0.4444444444444444,\"#bd3786\"],[0.5555555555555556,\"#d8576b\"],[0.6666666666666666,\"#ed7953\"],[0.7777777777777778,\"#fb9f3a\"],[0.8888888888888888,\"#fdca26\"],[1.0,\"#f0f921\"]]}],\"contourcarpet\":[{\"colorbar\":{\"outlinewidth\":0.0,\"ticks\":\"\"}}],\"heatmap\":[{\"colorbar\":{\"outlinewidth\":0.0,\"ticks\":\"\"},\"colorscale\":[[0.0,\"#0d0887\"],[0.1111111111111111,\"#46039f\"],[0.2222222222222222,\"#7201a8\"],[0.3333333333333333,\"#9c179e\"],[0.4444444444444444,\"#bd3786\"],[0.5555555555555556,\"#d8576b\"],[0.6666666666666666,\"#ed7953\"],[0.7777777777777778,\"#fb9f3a\"],[0.8888888888888888,\"#fdca26\"],[1.0,\"#f0f921\"]]}],\"heatmapgl\":[{\"colorbar\":{\"outlinewidth\":0.0,\"ticks\":\"\"},\"colorscale\":[[0.0,\"#0d0887\"],[0.1111111111111111,\"#46039f\"],[0.2222222222222222,\"#7201a8\"],[0.3333333333333333,\"#9c179e\"],[0.4444444444444444,\"#bd3786\"],[0.5555555555555556,\"#d8576b\"],[0.6666666666666666,\"#ed7953\"],[0.7777777777777778,\"#fb9f3a\"],[0.8888888888888888,\"#fdca26\"],[1.0,\"#f0f921\"]]}],\"histogram\":[{\"marker\":{\"pattern\":{\"fillmode\":\"overlay\",\"size\":10,\"solidity\":0.2}}}],\"histogram2d\":[{\"colorbar\":{\"outlinewidth\":0.0,\"ticks\":\"\"},\"colorscale\":[[0.0,\"#0d0887\"],[0.1111111111111111,\"#46039f\"],[0.2222222222222222,\"#7201a8\"],[0.3333333333333333,\"#9c179e\"],[0.4444444444444444,\"#bd3786\"],[0.5555555555555556,\"#d8576b\"],[0.6666666666666666,\"#ed7953\"],[0.7777777777777778,\"#fb9f3a\"],[0.8888888888888888,\"#fdca26\"],[1.0,\"#f0f921\"]]}],\"histogram2dcontour\":[{\"colorbar\":{\"outlinewidth\":0.0,\"ticks\":\"\"},\"colorscale\":[[0.0,\"#0d0887\"],[0.1111111111111111,\"#46039f\"],[0.2222222222222222,\"#7201a8\"],[0.3333333333333333,\"#9c179e\"],[0.4444444444444444,\"#bd3786\"],[0.5555555555555556,\"#d8576b\"],[0.6666666666666666,\"#ed7953\"],[0.7777777777777778,\"#fb9f3a\"],[0.8888888888888888,\"#fdca26\"],[1.0,\"#f0f921\"]]}],\"mesh3d\":[{\"colorbar\":{\"outlinewidth\":0.0,\"ticks\":\"\"}}],\"parcoords\":[{\"line\":{\"colorbar\":{\"outlinewidth\":0.0,\"ticks\":\"\"}}}],\"pie\":[{\"automargin\":true}],\"scatter\":[{\"marker\":{\"colorbar\":{\"outlinewidth\":0.0,\"ticks\":\"\"}}}],\"scatter3d\":[{\"marker\":{\"colorbar\":{\"outlinewidth\":0.0,\"ticks\":\"\"}},\"line\":{\"colorbar\":{\"outlinewidth\":0.0,\"ticks\":\"\"}}}],\"scattercarpet\":[{\"marker\":{\"colorbar\":{\"outlinewidth\":0.0,\"ticks\":\"\"}}}],\"scattergeo\":[{\"marker\":{\"colorbar\":{\"outlinewidth\":0.0,\"ticks\":\"\"}}}],\"scattergl\":[{\"marker\":{\"colorbar\":{\"outlinewidth\":0.0,\"ticks\":\"\"}}}],\"scattermapbox\":[{\"marker\":{\"colorbar\":{\"outlinewidth\":0.0,\"ticks\":\"\"}}}],\"scatterpolar\":[{\"marker\":{\"colorbar\":{\"outlinewidth\":0.0,\"ticks\":\"\"}}}],\"scatterpolargl\":[{\"marker\":{\"colorbar\":{\"outlinewidth\":0.0,\"ticks\":\"\"}}}],\"scatterternary\":[{\"marker\":{\"colorbar\":{\"outlinewidth\":0.0,\"ticks\":\"\"}}}],\"surface\":[{\"colorbar\":{\"outlinewidth\":0.0,\"ticks\":\"\"},\"colorscale\":[[0.0,\"#0d0887\"],[0.1111111111111111,\"#46039f\"],[0.2222222222222222,\"#7201a8\"],[0.3333333333333333,\"#9c179e\"],[0.4444444444444444,\"#bd3786\"],[0.5555555555555556,\"#d8576b\"],[0.6666666666666666,\"#ed7953\"],[0.7777777777777778,\"#fb9f3a\"],[0.8888888888888888,\"#fdca26\"],[1.0,\"#f0f921\"]]}],\"table\":[{\"cells\":{\"fill\":{\"color\":\"rgba(235, 240, 248, 1.0)\"},\"line\":{\"color\":\"rgba(255, 255, 255, 1.0)\"}},\"header\":{\"fill\":{\"color\":\"rgba(200, 212, 227, 1.0)\"},\"line\":{\"color\":\"rgba(255, 255, 255, 1.0)\"}}}]}},\"title\":{\"text\":\"Format Group Composition %\"},\"colorway\":[\"rgba(0, 206, 209, 1.0)\",\"rgba(100, 149, 237, 1.0)\",\"rgba(219, 112, 147, 1.0)\",\"rgba(218, 165, 32, 1.0)\"],\"dragmode\":\"pan\",\"barmode\":\"stack\"};\r\n",
       "            var config = {\"responsive\":true};\r\n",
       "            Plotly.newPlot('fdc8bb06-e464-4a30-8d11-50ef86dd16c9', data, layout, config);\r\n",
       "});\r\n",
       "            };\r\n",
       "            if ((typeof(requirejs) !==  typeof(Function)) || (typeof(requirejs.config) !== typeof(Function))) {\r\n",
       "                var script = document.createElement(\"script\");\r\n",
       "                script.setAttribute(\"src\", \"https://cdnjs.cloudflare.com/ajax/libs/require.js/2.3.6/require.min.js\");\r\n",
       "                script.onload = function(){\r\n",
       "                    renderPlotly_fdc8bb06e4644a308d1150ef86dd16c9();\r\n",
       "                };\r\n",
       "                document.getElementsByTagName(\"head\")[0].appendChild(script);\r\n",
       "            }\r\n",
       "            else {\r\n",
       "                renderPlotly_fdc8bb06e4644a308d1150ef86dd16c9();\r\n",
       "            }\r\n",
       "</script>\r\n",
       "\r\n",
       "    \r\n",
       "</div    \r\n"
      ]
     },
     "metadata": {},
     "output_type": "display_data"
    }
   ],
   "source": [
    "#!share --from sql-splSnapshots itemTypeFormat\n",
    "\n",
    "using System.Linq;\n",
    "using Microsoft.FSharp.Core;\n",
    "using Plotly.NET;\n",
    "using Plotly.NET.LayoutObjects;\n",
    "\n",
    "\n",
    "string[] years = (itemTypeFormat[0].Data.GroupBy(x=>((DateTime)x[\"ReportDate\"]).Year).OrderBy(x=>x.Key.ToString())\n",
    ".SelectMany(x=>new string[]{x.Key.ToString(), x.Key.ToString()})).ToArray();\n",
    "\n",
    "string[] inventoryCategory = (Enumerable.Repeat(new string[]{\"Item Percentage\", \"Inventory Percentage\"}, years.Length/2).SelectMany(x=>x)).ToArray();\n",
    "List<Trace> traces = new();\n",
    "\n",
    "foreach(var g in itemTypeFormat[0].Data.GroupBy(x=> x[\"FormatGroup\"]).OrderBy(x=>x.Key.ToString())){\n",
    "\n",
    "    var itemPercentages = g.GroupBy(x=>((DateTime)x[\"ReportDate\"]).Year).Select(x=> x.Average(x=>(double)x[\"FormatGroupItemPercentage\"]));\n",
    "    var inventoryPercentages = g.GroupBy(x=>((DateTime)x[\"ReportDate\"]).Year).Select(x=> x.Average(x=>(double)x[\"FormatGroupInventoryPercentage\"]));\n",
    "\n",
    "    Trace t = new Trace(\"bar\");\n",
    "    t.SetValue(\"x\", new string[][]{years, inventoryCategory} );\n",
    "    t.SetValue(\"y\", itemPercentages.Zip(inventoryPercentages, (x,y) => new double[]{x,y}).SelectMany(x=> x));\n",
    "    t.SetValue(\"name\", g.Key.ToString());\n",
    "    traces.Add(t);\n",
    "}\n",
    "var layout = Layout.init<int>(\n",
    "    Title: Title.init(\"Format Group Composition %\"),\n",
    "    Width:1500,\n",
    "    DragMode:StyleParam.DragMode.Pan,\n",
    "    BarMode:StyleParam.BarMode.Stack\n",
    "    ,    Colorway: Color.fromColors(\n",
    "        new List<Color>() { Color.fromKeyword(ColorKeyword.DarkTurquoise), Color.fromKeyword(ColorKeyword.CornflowerBlue), Color.fromKeyword(ColorKeyword.PaleVioletRed), Color.fromKeyword(ColorKeyword.GoldenRod)})\n",
    ");\n",
    "\n",
    "#!html\n",
    "<a id=\"formatGroup\"></a>\n",
    "\n",
    "\n",
    "#!csharp\n",
    "\n",
    "GenericChart.combine(traces.Select(x=> GenericChart.ofTraceObject(true,x)))\n",
    ".WithLayout(layout)"
   ]
  },
  {
   "cell_type": "markdown",
   "metadata": {},
   "source": [
    "the item type 'other' was only briefly used from 2017 to 2019.  77 Titles were see to have other at one point during this time.  Then that type was no longer used and items were switch to 'print' item type"
   ]
  },
  {
   "cell_type": "code",
   "execution_count": null,
   "metadata": {
    "dotnet_interactive": {
     "language": "sql"
    },
    "vscode": {
     "languageId": "dotnet-interactive.sql"
    }
   },
   "outputs": [],
   "source": [
    "#!sql-splSnapshots --name longRunningPeak\n",
    "\n",
    ";WITH longrunningpeak_cte\n",
    "     AS (SELECT ed.bibnum,\n",
    "                Min(ed.reportdate)                                      AS\n",
    "                minPeak,\n",
    "                Max(ed.reportdate)                                      AS\n",
    "                maxPeak,\n",
    "                Datediff(month, Min(ed.reportdate), Max(ed.reportdate)) AS\n",
    "                amountPeak\n",
    "         FROM   elementdetail ed\n",
    "                INNER JOIN elementinventory ei\n",
    "                        ON ei.bibnum = ed.bibnum\n",
    "                           AND ei.reportdate = ed.reportdate\n",
    "                INNER JOIN itemtype it\n",
    "                        ON ei.itemtypecode = it.code\n",
    "         WHERE  it.code = 'pkbknh'\n",
    "         GROUP  BY ed.bibnum)\n",
    "SELECT TOP 10 lrp.*,\n",
    "              t.title\n",
    "FROM   longrunningpeak_cte lrp\n",
    "       INNER JOIN (SELECT bibnum,\n",
    "                          Max(titleid) AS TitleId\n",
    "                   FROM   elementdetail\n",
    "                   GROUP  BY bibnum) ed\n",
    "               ON ed.bibnum = lrp.bibnum\n",
    "       INNER JOIN title t\n",
    "               ON t.titleid = ed.titleid\n",
    "ORDER  BY amountpeak DESC "
   ]
  },
  {
   "cell_type": "code",
   "execution_count": null,
   "metadata": {
    "dotnet_interactive": {
     "language": "csharp"
    },
    "vscode": {
     "languageId": "dotnet-interactive.csharp"
    }
   },
   "outputs": [
    {
     "data": {
      "text/html": [
       "<a id=\"longRunningPeaks\"></a>\r\n",
       "\r\n"
      ]
     },
     "metadata": {},
     "output_type": "display_data"
    },
    {
     "data": {
      "text/html": [
       "\r\n",
       "<div>\r\n",
       "    <div id=\"7b573093-789a-4c5f-8964-67a87bf3564a\"><!-- Plotly chart will be drawn inside this DIV --></div>\r\n",
       "<script type=\"text/javascript\">\r\n",
       "\r\n",
       "            var renderPlotly_7b573093789a4c5f896467a87bf3564a = function() {\r\n",
       "            var fsharpPlotlyRequire = requirejs.config({context:'fsharp-plotly',paths:{plotly:'https://cdn.plot.ly/plotly-2.6.3.min'}}) || require;\r\n",
       "            fsharpPlotlyRequire(['plotly'], function(Plotly) {\r\n",
       "\r\n",
       "            var data = [{\"type\":\"table\",\"columnwidth\":[0.85,0.15],\"cells\":{\"align\":\"left\",\"fill\":{},\"line\":{},\"values\":[[\"No time to spare : thinking about what matters / Ursula K. Le Guin ; [introduction by Karen Joy Fowler].\",\"Women & power : a manifesto / Mary Beard.\",\"Enlightenment now : the case for reason, science, humanism, and progress / Steven Pinker.\",\"Down the river unto the sea / Walter Mosley.\",\"To die but once / Jacqueline Winspear.\",\"The perfect nanny : a novel / Leila Slimani ; translated from the French by Sam Taylor.\",\"Things that make white people uncomfortable / Michael Bennett and Dave Zirin ; foreword by Martellus Bennett.\",\"Fascism : a warning / Madeleine Albright ; with Bill Woodward.\",\"Not that bad : dispatches from rape culture / edited by Roxane Gay.\",\"Varina : a novel / Charles Frazier.\"],[\"52\",\"51\",\"50\",\"49\",\"49\",\"49\",\"48\",\"48\",\"48\",\"48\"]]},\"header\":{\"fill\":{},\"line\":{},\"values\":[\"Title\",\"Months as Peak Pick\"]}}];\r\n",
       "            var layout = {\"width\":770,\"height\":235,\"template\":{\"layout\":{\"title\":{\"x\":0.05},\"font\":{\"color\":\"rgba(42, 63, 95, 1.0)\"},\"paper_bgcolor\":\"rgba(255, 255, 255, 1.0)\",\"plot_bgcolor\":\"rgba(229, 236, 246, 1.0)\",\"autotypenumbers\":\"strict\",\"colorscale\":{\"diverging\":[[0.0,\"#8e0152\"],[0.1,\"#c51b7d\"],[0.2,\"#de77ae\"],[0.3,\"#f1b6da\"],[0.4,\"#fde0ef\"],[0.5,\"#f7f7f7\"],[0.6,\"#e6f5d0\"],[0.7,\"#b8e186\"],[0.8,\"#7fbc41\"],[0.9,\"#4d9221\"],[1.0,\"#276419\"]],\"sequential\":[[0.0,\"#0d0887\"],[0.1111111111111111,\"#46039f\"],[0.2222222222222222,\"#7201a8\"],[0.3333333333333333,\"#9c179e\"],[0.4444444444444444,\"#bd3786\"],[0.5555555555555556,\"#d8576b\"],[0.6666666666666666,\"#ed7953\"],[0.7777777777777778,\"#fb9f3a\"],[0.8888888888888888,\"#fdca26\"],[1.0,\"#f0f921\"]],\"sequentialminus\":[[0.0,\"#0d0887\"],[0.1111111111111111,\"#46039f\"],[0.2222222222222222,\"#7201a8\"],[0.3333333333333333,\"#9c179e\"],[0.4444444444444444,\"#bd3786\"],[0.5555555555555556,\"#d8576b\"],[0.6666666666666666,\"#ed7953\"],[0.7777777777777778,\"#fb9f3a\"],[0.8888888888888888,\"#fdca26\"],[1.0,\"#f0f921\"]]},\"hovermode\":\"closest\",\"hoverlabel\":{\"align\":\"left\"},\"coloraxis\":{\"colorbar\":{\"outlinewidth\":0.0,\"ticks\":\"\"}},\"geo\":{\"showland\":true,\"landcolor\":\"rgba(229, 236, 246, 1.0)\",\"showlakes\":true,\"lakecolor\":\"rgba(255, 255, 255, 1.0)\",\"subunitcolor\":\"rgba(255, 255, 255, 1.0)\",\"bgcolor\":\"rgba(255, 255, 255, 1.0)\"},\"mapbox\":{\"style\":\"light\"},\"polar\":{\"bgcolor\":\"rgba(229, 236, 246, 1.0)\",\"radialaxis\":{\"linecolor\":\"rgba(255, 255, 255, 1.0)\",\"gridcolor\":\"rgba(255, 255, 255, 1.0)\",\"ticks\":\"\"},\"angularaxis\":{\"linecolor\":\"rgba(255, 255, 255, 1.0)\",\"gridcolor\":\"rgba(255, 255, 255, 1.0)\",\"ticks\":\"\"}},\"scene\":{\"xaxis\":{\"ticks\":\"\",\"linecolor\":\"rgba(255, 255, 255, 1.0)\",\"gridcolor\":\"rgba(255, 255, 255, 1.0)\",\"gridwidth\":2.0,\"zerolinecolor\":\"rgba(255, 255, 255, 1.0)\",\"backgroundcolor\":\"rgba(229, 236, 246, 1.0)\",\"showbackground\":true},\"yaxis\":{\"ticks\":\"\",\"linecolor\":\"rgba(255, 255, 255, 1.0)\",\"gridcolor\":\"rgba(255, 255, 255, 1.0)\",\"gridwidth\":2.0,\"zerolinecolor\":\"rgba(255, 255, 255, 1.0)\",\"backgroundcolor\":\"rgba(229, 236, 246, 1.0)\",\"showbackground\":true},\"zaxis\":{\"ticks\":\"\",\"linecolor\":\"rgba(255, 255, 255, 1.0)\",\"gridcolor\":\"rgba(255, 255, 255, 1.0)\",\"gridwidth\":2.0,\"zerolinecolor\":\"rgba(255, 255, 255, 1.0)\",\"backgroundcolor\":\"rgba(229, 236, 246, 1.0)\",\"showbackground\":true}},\"ternary\":{\"aaxis\":{\"ticks\":\"\",\"linecolor\":\"rgba(255, 255, 255, 1.0)\",\"gridcolor\":\"rgba(255, 255, 255, 1.0)\"},\"baxis\":{\"ticks\":\"\",\"linecolor\":\"rgba(255, 255, 255, 1.0)\",\"gridcolor\":\"rgba(255, 255, 255, 1.0)\"},\"caxis\":{\"ticks\":\"\",\"linecolor\":\"rgba(255, 255, 255, 1.0)\",\"gridcolor\":\"rgba(255, 255, 255, 1.0)\"},\"bgcolor\":\"rgba(229, 236, 246, 1.0)\"},\"xaxis\":{\"title\":{\"standoff\":15},\"ticks\":\"\",\"automargin\":true,\"linecolor\":\"rgba(255, 255, 255, 1.0)\",\"gridcolor\":\"rgba(255, 255, 255, 1.0)\",\"zerolinecolor\":\"rgba(255, 255, 255, 1.0)\",\"zerolinewidth\":2.0},\"yaxis\":{\"title\":{\"standoff\":15},\"ticks\":\"\",\"automargin\":true,\"linecolor\":\"rgba(255, 255, 255, 1.0)\",\"gridcolor\":\"rgba(255, 255, 255, 1.0)\",\"zerolinecolor\":\"rgba(255, 255, 255, 1.0)\",\"zerolinewidth\":2.0},\"annotationdefaults\":{\"arrowcolor\":\"#2a3f5f\",\"arrowhead\":0,\"arrowwidth\":1},\"shapedefaults\":{\"line\":{\"color\":\"rgba(42, 63, 95, 1.0)\"}},\"colorway\":[\"rgba(99, 110, 250, 1.0)\",\"rgba(239, 85, 59, 1.0)\",\"rgba(0, 204, 150, 1.0)\",\"rgba(171, 99, 250, 1.0)\",\"rgba(255, 161, 90, 1.0)\",\"rgba(25, 211, 243, 1.0)\",\"rgba(255, 102, 146, 1.0)\",\"rgba(182, 232, 128, 1.0)\",\"rgba(255, 151, 255, 1.0)\",\"rgba(254, 203, 82, 1.0)\"]},\"data\":{\"bar\":[{\"marker\":{\"line\":{\"color\":\"rgba(229, 236, 246, 1.0)\",\"width\":0.5},\"pattern\":{\"fillmode\":\"overlay\",\"size\":10,\"solidity\":0.2}},\"error_x\":{\"color\":\"rgba(42, 63, 95, 1.0)\"},\"error_y\":{\"color\":\"rgba(42, 63, 95, 1.0)\"}}],\"barpolar\":[{\"marker\":{\"line\":{\"color\":\"rgba(229, 236, 246, 1.0)\",\"width\":0.5},\"pattern\":{\"fillmode\":\"overlay\",\"size\":10,\"solidity\":0.2}}}],\"carpet\":[{\"aaxis\":{\"linecolor\":\"rgba(255, 255, 255, 1.0)\",\"gridcolor\":\"rgba(255, 255, 255, 1.0)\",\"endlinecolor\":\"rgba(42, 63, 95, 1.0)\",\"minorgridcolor\":\"rgba(255, 255, 255, 1.0)\",\"startlinecolor\":\"rgba(42, 63, 95, 1.0)\"},\"baxis\":{\"linecolor\":\"rgba(255, 255, 255, 1.0)\",\"gridcolor\":\"rgba(255, 255, 255, 1.0)\",\"endlinecolor\":\"rgba(42, 63, 95, 1.0)\",\"minorgridcolor\":\"rgba(255, 255, 255, 1.0)\",\"startlinecolor\":\"rgba(42, 63, 95, 1.0)\"}}],\"choropleth\":[{\"colorbar\":{\"outlinewidth\":0.0,\"ticks\":\"\"},\"colorscale\":[[0.0,\"#0d0887\"],[0.1111111111111111,\"#46039f\"],[0.2222222222222222,\"#7201a8\"],[0.3333333333333333,\"#9c179e\"],[0.4444444444444444,\"#bd3786\"],[0.5555555555555556,\"#d8576b\"],[0.6666666666666666,\"#ed7953\"],[0.7777777777777778,\"#fb9f3a\"],[0.8888888888888888,\"#fdca26\"],[1.0,\"#f0f921\"]]}],\"contour\":[{\"colorbar\":{\"outlinewidth\":0.0,\"ticks\":\"\"},\"colorscale\":[[0.0,\"#0d0887\"],[0.1111111111111111,\"#46039f\"],[0.2222222222222222,\"#7201a8\"],[0.3333333333333333,\"#9c179e\"],[0.4444444444444444,\"#bd3786\"],[0.5555555555555556,\"#d8576b\"],[0.6666666666666666,\"#ed7953\"],[0.7777777777777778,\"#fb9f3a\"],[0.8888888888888888,\"#fdca26\"],[1.0,\"#f0f921\"]]}],\"contourcarpet\":[{\"colorbar\":{\"outlinewidth\":0.0,\"ticks\":\"\"}}],\"heatmap\":[{\"colorbar\":{\"outlinewidth\":0.0,\"ticks\":\"\"},\"colorscale\":[[0.0,\"#0d0887\"],[0.1111111111111111,\"#46039f\"],[0.2222222222222222,\"#7201a8\"],[0.3333333333333333,\"#9c179e\"],[0.4444444444444444,\"#bd3786\"],[0.5555555555555556,\"#d8576b\"],[0.6666666666666666,\"#ed7953\"],[0.7777777777777778,\"#fb9f3a\"],[0.8888888888888888,\"#fdca26\"],[1.0,\"#f0f921\"]]}],\"heatmapgl\":[{\"colorbar\":{\"outlinewidth\":0.0,\"ticks\":\"\"},\"colorscale\":[[0.0,\"#0d0887\"],[0.1111111111111111,\"#46039f\"],[0.2222222222222222,\"#7201a8\"],[0.3333333333333333,\"#9c179e\"],[0.4444444444444444,\"#bd3786\"],[0.5555555555555556,\"#d8576b\"],[0.6666666666666666,\"#ed7953\"],[0.7777777777777778,\"#fb9f3a\"],[0.8888888888888888,\"#fdca26\"],[1.0,\"#f0f921\"]]}],\"histogram\":[{\"marker\":{\"pattern\":{\"fillmode\":\"overlay\",\"size\":10,\"solidity\":0.2}}}],\"histogram2d\":[{\"colorbar\":{\"outlinewidth\":0.0,\"ticks\":\"\"},\"colorscale\":[[0.0,\"#0d0887\"],[0.1111111111111111,\"#46039f\"],[0.2222222222222222,\"#7201a8\"],[0.3333333333333333,\"#9c179e\"],[0.4444444444444444,\"#bd3786\"],[0.5555555555555556,\"#d8576b\"],[0.6666666666666666,\"#ed7953\"],[0.7777777777777778,\"#fb9f3a\"],[0.8888888888888888,\"#fdca26\"],[1.0,\"#f0f921\"]]}],\"histogram2dcontour\":[{\"colorbar\":{\"outlinewidth\":0.0,\"ticks\":\"\"},\"colorscale\":[[0.0,\"#0d0887\"],[0.1111111111111111,\"#46039f\"],[0.2222222222222222,\"#7201a8\"],[0.3333333333333333,\"#9c179e\"],[0.4444444444444444,\"#bd3786\"],[0.5555555555555556,\"#d8576b\"],[0.6666666666666666,\"#ed7953\"],[0.7777777777777778,\"#fb9f3a\"],[0.8888888888888888,\"#fdca26\"],[1.0,\"#f0f921\"]]}],\"mesh3d\":[{\"colorbar\":{\"outlinewidth\":0.0,\"ticks\":\"\"}}],\"parcoords\":[{\"line\":{\"colorbar\":{\"outlinewidth\":0.0,\"ticks\":\"\"}}}],\"pie\":[{\"automargin\":true}],\"scatter\":[{\"marker\":{\"colorbar\":{\"outlinewidth\":0.0,\"ticks\":\"\"}}}],\"scatter3d\":[{\"marker\":{\"colorbar\":{\"outlinewidth\":0.0,\"ticks\":\"\"}},\"line\":{\"colorbar\":{\"outlinewidth\":0.0,\"ticks\":\"\"}}}],\"scattercarpet\":[{\"marker\":{\"colorbar\":{\"outlinewidth\":0.0,\"ticks\":\"\"}}}],\"scattergeo\":[{\"marker\":{\"colorbar\":{\"outlinewidth\":0.0,\"ticks\":\"\"}}}],\"scattergl\":[{\"marker\":{\"colorbar\":{\"outlinewidth\":0.0,\"ticks\":\"\"}}}],\"scattermapbox\":[{\"marker\":{\"colorbar\":{\"outlinewidth\":0.0,\"ticks\":\"\"}}}],\"scatterpolar\":[{\"marker\":{\"colorbar\":{\"outlinewidth\":0.0,\"ticks\":\"\"}}}],\"scatterpolargl\":[{\"marker\":{\"colorbar\":{\"outlinewidth\":0.0,\"ticks\":\"\"}}}],\"scatterternary\":[{\"marker\":{\"colorbar\":{\"outlinewidth\":0.0,\"ticks\":\"\"}}}],\"surface\":[{\"colorbar\":{\"outlinewidth\":0.0,\"ticks\":\"\"},\"colorscale\":[[0.0,\"#0d0887\"],[0.1111111111111111,\"#46039f\"],[0.2222222222222222,\"#7201a8\"],[0.3333333333333333,\"#9c179e\"],[0.4444444444444444,\"#bd3786\"],[0.5555555555555556,\"#d8576b\"],[0.6666666666666666,\"#ed7953\"],[0.7777777777777778,\"#fb9f3a\"],[0.8888888888888888,\"#fdca26\"],[1.0,\"#f0f921\"]]}],\"table\":[{\"cells\":{\"fill\":{\"color\":\"rgba(235, 240, 248, 1.0)\"},\"line\":{\"color\":\"rgba(255, 255, 255, 1.0)\"}},\"header\":{\"fill\":{\"color\":\"rgba(200, 212, 227, 1.0)\"},\"line\":{\"color\":\"rgba(255, 255, 255, 1.0)\"}}}]}},\"margin\":{\"l\":10,\"r\":10,\"t\":10,\"b\":10}};\r\n",
       "            var config = {\"responsive\":true};\r\n",
       "            Plotly.newPlot('7b573093-789a-4c5f-8964-67a87bf3564a', data, layout, config);\r\n",
       "});\r\n",
       "            };\r\n",
       "            if ((typeof(requirejs) !==  typeof(Function)) || (typeof(requirejs.config) !== typeof(Function))) {\r\n",
       "                var script = document.createElement(\"script\");\r\n",
       "                script.setAttribute(\"src\", \"https://cdnjs.cloudflare.com/ajax/libs/require.js/2.3.6/require.min.js\");\r\n",
       "                script.onload = function(){\r\n",
       "                    renderPlotly_7b573093789a4c5f896467a87bf3564a();\r\n",
       "                };\r\n",
       "                document.getElementsByTagName(\"head\")[0].appendChild(script);\r\n",
       "            }\r\n",
       "            else {\r\n",
       "                renderPlotly_7b573093789a4c5f896467a87bf3564a();\r\n",
       "            }\r\n",
       "</script>\r\n",
       "\r\n",
       "    \r\n",
       "</div    \r\n"
      ]
     },
     "metadata": {},
     "output_type": "display_data"
    }
   ],
   "source": [
    "#!share --from sql-splSnapshots longRunningPeak\n",
    "using System.Linq;\n",
    "using Microsoft.FSharp.Core;\n",
    "using Plotly.NET;\n",
    "using Plotly.NET.LayoutObjects;\n",
    "using System;\n",
    "using Range = Plotly.NET.StyleParam.Range;\n",
    "using ChartDomain = Plotly.NET.ChartDomain.Chart;\n",
    "\n",
    "var header =  new string[]{\"Title\", \"Months as Peak Pick\"};\n",
    "var peaksTable = ChartDomain.Table<string, char, IEnumerable<string>,string>(\n",
    "    header\n",
    "    ,longRunningPeak[0].Data.Select(x => new string[]{ x[\"title\"].ToString(), x[\"amountPeak\"].ToString()})\n",
    "    ,MultiColumnWidth: new double[]{.85,.15}\n",
    "    ,CellsAlign: StyleParam.HorizontalAlign.Left\n",
    "    \n",
    ").WithLayout(\n",
    "    Layout.init<int>(\n",
    "        Width:770,\n",
    "        Height:235,\n",
    "        Margin:Margin.init<int,int,int,int,int,int>(Top:10, Left: 10, Right: 10, Bottom:10)\n",
    "));\n",
    "\n",
    "\n",
    "#!html\n",
    "<a id=\"longRunningPeaks\"></a>\n",
    "\n",
    "#!csharp\n",
    "peaksTable"
   ]
  },
  {
   "cell_type": "code",
   "execution_count": null,
   "metadata": {
    "dotnet_interactive": {
     "language": "sql"
    },
    "vscode": {
     "languageId": "dotnet-interactive.sql"
    }
   },
   "outputs": [],
   "source": [
    "#!sql-splSnapshots --name filteredAllAuthors\n",
    "\n",
    "; WITH authorcount_cte\n",
    "AS (SELECT authorid,\n",
    "           Count(*) authorCount\n",
    "    FROM   elementdetail\n",
    "    WHERE  reportdate = '2022-05-01'\n",
    "    GROUP  BY authorid)\n",
    "SELECT DISTINCT TOP (10)  acc.*,\n",
    "           a.NAME\n",
    "--, it.Description \n",
    "--, t.Title \n",
    "FROM   authorcount_cte acc\n",
    "  INNER JOIN author a\n",
    "          ON a.authorid = acc.authorid\n",
    "  INNER JOIN elementdetail ed\n",
    "          ON a.authorid = ed.authorid\n",
    "             AND ed.reportdate = '2022-05-01'\n",
    "  --inner join Title t on t.TitleId = ed.TitleId\n",
    "  INNER JOIN elementinventory ei\n",
    "          ON ei.bibnum = ed.bibnum\n",
    "             AND ei.reportdate = '2022-05-01'\n",
    "  INNER JOIN itemtype it\n",
    "          ON it.code = ei.itemtypecode\n",
    "WHERE  a.authorid NOT IN( 30861 --blank\n",
    "                     , 264--Geological Survey (U.S.)\n",
    "                    )\n",
    "  AND NAME NOT LIKE ( 'United States%' )\n",
    "--and name not like ('United States. Congress.%')\n",
    "--and name not like ('United States. President%')\n",
    "ORDER  BY authorcount DESC "
   ]
  },
  {
   "cell_type": "code",
   "execution_count": null,
   "metadata": {
    "dotnet_interactive": {
     "language": "csharp"
    },
    "vscode": {
     "languageId": "dotnet-interactive.csharp"
    }
   },
   "outputs": [
    {
     "data": {
      "text/html": [
       "<a id=\"longRunningPeaks\"></a>\r\n",
       "\r\n"
      ]
     },
     "metadata": {},
     "output_type": "display_data"
    },
    {
     "data": {
      "text/html": [
       "\r\n",
       "<div>\r\n",
       "    <div id=\"b6403708-9f41-493c-bfa3-4a0a6f995018\"><!-- Plotly chart will be drawn inside this DIV --></div>\r\n",
       "<script type=\"text/javascript\">\r\n",
       "\r\n",
       "            var renderPlotly_b64037089f41493cbfa34a0a6f995018 = function() {\r\n",
       "            var fsharpPlotlyRequire = requirejs.config({context:'fsharp-plotly',paths:{plotly:'https://cdn.plot.ly/plotly-2.6.3.min'}}) || require;\r\n",
       "            fsharpPlotlyRequire(['plotly'], function(Plotly) {\r\n",
       "\r\n",
       "            var data = [{\"type\":\"table\",\"columnwidth\":[0.85,0.15],\"cells\":{\"align\":\"left\",\"fill\":{},\"line\":{},\"values\":[[\"Bach, Johann Sebastian, 1685-1750\",\"Patterson, James, 1947-\",\"Seattle (Wash.). Department of Construction and Land Use\",\"Mozart, Wolfgang Amadeus, 1756-1791\",\"Shakespeare, William, 1564-1616\",\"Seattle (Wash.). Department of Planning and Development\",\"Beethoven, Ludwig van, 1770-1827\",\"Municipality of Metropolitan Seattle.\",\"Christie, Agatha, 1890-1976\",\"Municipal Reference Library (Seattle, Wash.)\"],[\"612\",\"552\",\"460\",\"398\",\"397\",\"344\",\"290\",\"284\",\"228\",\"226\"]]},\"header\":{\"fill\":{},\"line\":{},\"values\":[\"Author\",\"Item Count\"]}}];\r\n",
       "            var layout = {\"width\":770,\"height\":235,\"template\":{\"layout\":{\"title\":{\"x\":0.05},\"font\":{\"color\":\"rgba(42, 63, 95, 1.0)\"},\"paper_bgcolor\":\"rgba(255, 255, 255, 1.0)\",\"plot_bgcolor\":\"rgba(229, 236, 246, 1.0)\",\"autotypenumbers\":\"strict\",\"colorscale\":{\"diverging\":[[0.0,\"#8e0152\"],[0.1,\"#c51b7d\"],[0.2,\"#de77ae\"],[0.3,\"#f1b6da\"],[0.4,\"#fde0ef\"],[0.5,\"#f7f7f7\"],[0.6,\"#e6f5d0\"],[0.7,\"#b8e186\"],[0.8,\"#7fbc41\"],[0.9,\"#4d9221\"],[1.0,\"#276419\"]],\"sequential\":[[0.0,\"#0d0887\"],[0.1111111111111111,\"#46039f\"],[0.2222222222222222,\"#7201a8\"],[0.3333333333333333,\"#9c179e\"],[0.4444444444444444,\"#bd3786\"],[0.5555555555555556,\"#d8576b\"],[0.6666666666666666,\"#ed7953\"],[0.7777777777777778,\"#fb9f3a\"],[0.8888888888888888,\"#fdca26\"],[1.0,\"#f0f921\"]],\"sequentialminus\":[[0.0,\"#0d0887\"],[0.1111111111111111,\"#46039f\"],[0.2222222222222222,\"#7201a8\"],[0.3333333333333333,\"#9c179e\"],[0.4444444444444444,\"#bd3786\"],[0.5555555555555556,\"#d8576b\"],[0.6666666666666666,\"#ed7953\"],[0.7777777777777778,\"#fb9f3a\"],[0.8888888888888888,\"#fdca26\"],[1.0,\"#f0f921\"]]},\"hovermode\":\"closest\",\"hoverlabel\":{\"align\":\"left\"},\"coloraxis\":{\"colorbar\":{\"outlinewidth\":0.0,\"ticks\":\"\"}},\"geo\":{\"showland\":true,\"landcolor\":\"rgba(229, 236, 246, 1.0)\",\"showlakes\":true,\"lakecolor\":\"rgba(255, 255, 255, 1.0)\",\"subunitcolor\":\"rgba(255, 255, 255, 1.0)\",\"bgcolor\":\"rgba(255, 255, 255, 1.0)\"},\"mapbox\":{\"style\":\"light\"},\"polar\":{\"bgcolor\":\"rgba(229, 236, 246, 1.0)\",\"radialaxis\":{\"linecolor\":\"rgba(255, 255, 255, 1.0)\",\"gridcolor\":\"rgba(255, 255, 255, 1.0)\",\"ticks\":\"\"},\"angularaxis\":{\"linecolor\":\"rgba(255, 255, 255, 1.0)\",\"gridcolor\":\"rgba(255, 255, 255, 1.0)\",\"ticks\":\"\"}},\"scene\":{\"xaxis\":{\"ticks\":\"\",\"linecolor\":\"rgba(255, 255, 255, 1.0)\",\"gridcolor\":\"rgba(255, 255, 255, 1.0)\",\"gridwidth\":2.0,\"zerolinecolor\":\"rgba(255, 255, 255, 1.0)\",\"backgroundcolor\":\"rgba(229, 236, 246, 1.0)\",\"showbackground\":true},\"yaxis\":{\"ticks\":\"\",\"linecolor\":\"rgba(255, 255, 255, 1.0)\",\"gridcolor\":\"rgba(255, 255, 255, 1.0)\",\"gridwidth\":2.0,\"zerolinecolor\":\"rgba(255, 255, 255, 1.0)\",\"backgroundcolor\":\"rgba(229, 236, 246, 1.0)\",\"showbackground\":true},\"zaxis\":{\"ticks\":\"\",\"linecolor\":\"rgba(255, 255, 255, 1.0)\",\"gridcolor\":\"rgba(255, 255, 255, 1.0)\",\"gridwidth\":2.0,\"zerolinecolor\":\"rgba(255, 255, 255, 1.0)\",\"backgroundcolor\":\"rgba(229, 236, 246, 1.0)\",\"showbackground\":true}},\"ternary\":{\"aaxis\":{\"ticks\":\"\",\"linecolor\":\"rgba(255, 255, 255, 1.0)\",\"gridcolor\":\"rgba(255, 255, 255, 1.0)\"},\"baxis\":{\"ticks\":\"\",\"linecolor\":\"rgba(255, 255, 255, 1.0)\",\"gridcolor\":\"rgba(255, 255, 255, 1.0)\"},\"caxis\":{\"ticks\":\"\",\"linecolor\":\"rgba(255, 255, 255, 1.0)\",\"gridcolor\":\"rgba(255, 255, 255, 1.0)\"},\"bgcolor\":\"rgba(229, 236, 246, 1.0)\"},\"xaxis\":{\"title\":{\"standoff\":15},\"ticks\":\"\",\"automargin\":true,\"linecolor\":\"rgba(255, 255, 255, 1.0)\",\"gridcolor\":\"rgba(255, 255, 255, 1.0)\",\"zerolinecolor\":\"rgba(255, 255, 255, 1.0)\",\"zerolinewidth\":2.0},\"yaxis\":{\"title\":{\"standoff\":15},\"ticks\":\"\",\"automargin\":true,\"linecolor\":\"rgba(255, 255, 255, 1.0)\",\"gridcolor\":\"rgba(255, 255, 255, 1.0)\",\"zerolinecolor\":\"rgba(255, 255, 255, 1.0)\",\"zerolinewidth\":2.0},\"annotationdefaults\":{\"arrowcolor\":\"#2a3f5f\",\"arrowhead\":0,\"arrowwidth\":1},\"shapedefaults\":{\"line\":{\"color\":\"rgba(42, 63, 95, 1.0)\"}},\"colorway\":[\"rgba(99, 110, 250, 1.0)\",\"rgba(239, 85, 59, 1.0)\",\"rgba(0, 204, 150, 1.0)\",\"rgba(171, 99, 250, 1.0)\",\"rgba(255, 161, 90, 1.0)\",\"rgba(25, 211, 243, 1.0)\",\"rgba(255, 102, 146, 1.0)\",\"rgba(182, 232, 128, 1.0)\",\"rgba(255, 151, 255, 1.0)\",\"rgba(254, 203, 82, 1.0)\"]},\"data\":{\"bar\":[{\"marker\":{\"line\":{\"color\":\"rgba(229, 236, 246, 1.0)\",\"width\":0.5},\"pattern\":{\"fillmode\":\"overlay\",\"size\":10,\"solidity\":0.2}},\"error_x\":{\"color\":\"rgba(42, 63, 95, 1.0)\"},\"error_y\":{\"color\":\"rgba(42, 63, 95, 1.0)\"}}],\"barpolar\":[{\"marker\":{\"line\":{\"color\":\"rgba(229, 236, 246, 1.0)\",\"width\":0.5},\"pattern\":{\"fillmode\":\"overlay\",\"size\":10,\"solidity\":0.2}}}],\"carpet\":[{\"aaxis\":{\"linecolor\":\"rgba(255, 255, 255, 1.0)\",\"gridcolor\":\"rgba(255, 255, 255, 1.0)\",\"endlinecolor\":\"rgba(42, 63, 95, 1.0)\",\"minorgridcolor\":\"rgba(255, 255, 255, 1.0)\",\"startlinecolor\":\"rgba(42, 63, 95, 1.0)\"},\"baxis\":{\"linecolor\":\"rgba(255, 255, 255, 1.0)\",\"gridcolor\":\"rgba(255, 255, 255, 1.0)\",\"endlinecolor\":\"rgba(42, 63, 95, 1.0)\",\"minorgridcolor\":\"rgba(255, 255, 255, 1.0)\",\"startlinecolor\":\"rgba(42, 63, 95, 1.0)\"}}],\"choropleth\":[{\"colorbar\":{\"outlinewidth\":0.0,\"ticks\":\"\"},\"colorscale\":[[0.0,\"#0d0887\"],[0.1111111111111111,\"#46039f\"],[0.2222222222222222,\"#7201a8\"],[0.3333333333333333,\"#9c179e\"],[0.4444444444444444,\"#bd3786\"],[0.5555555555555556,\"#d8576b\"],[0.6666666666666666,\"#ed7953\"],[0.7777777777777778,\"#fb9f3a\"],[0.8888888888888888,\"#fdca26\"],[1.0,\"#f0f921\"]]}],\"contour\":[{\"colorbar\":{\"outlinewidth\":0.0,\"ticks\":\"\"},\"colorscale\":[[0.0,\"#0d0887\"],[0.1111111111111111,\"#46039f\"],[0.2222222222222222,\"#7201a8\"],[0.3333333333333333,\"#9c179e\"],[0.4444444444444444,\"#bd3786\"],[0.5555555555555556,\"#d8576b\"],[0.6666666666666666,\"#ed7953\"],[0.7777777777777778,\"#fb9f3a\"],[0.8888888888888888,\"#fdca26\"],[1.0,\"#f0f921\"]]}],\"contourcarpet\":[{\"colorbar\":{\"outlinewidth\":0.0,\"ticks\":\"\"}}],\"heatmap\":[{\"colorbar\":{\"outlinewidth\":0.0,\"ticks\":\"\"},\"colorscale\":[[0.0,\"#0d0887\"],[0.1111111111111111,\"#46039f\"],[0.2222222222222222,\"#7201a8\"],[0.3333333333333333,\"#9c179e\"],[0.4444444444444444,\"#bd3786\"],[0.5555555555555556,\"#d8576b\"],[0.6666666666666666,\"#ed7953\"],[0.7777777777777778,\"#fb9f3a\"],[0.8888888888888888,\"#fdca26\"],[1.0,\"#f0f921\"]]}],\"heatmapgl\":[{\"colorbar\":{\"outlinewidth\":0.0,\"ticks\":\"\"},\"colorscale\":[[0.0,\"#0d0887\"],[0.1111111111111111,\"#46039f\"],[0.2222222222222222,\"#7201a8\"],[0.3333333333333333,\"#9c179e\"],[0.4444444444444444,\"#bd3786\"],[0.5555555555555556,\"#d8576b\"],[0.6666666666666666,\"#ed7953\"],[0.7777777777777778,\"#fb9f3a\"],[0.8888888888888888,\"#fdca26\"],[1.0,\"#f0f921\"]]}],\"histogram\":[{\"marker\":{\"pattern\":{\"fillmode\":\"overlay\",\"size\":10,\"solidity\":0.2}}}],\"histogram2d\":[{\"colorbar\":{\"outlinewidth\":0.0,\"ticks\":\"\"},\"colorscale\":[[0.0,\"#0d0887\"],[0.1111111111111111,\"#46039f\"],[0.2222222222222222,\"#7201a8\"],[0.3333333333333333,\"#9c179e\"],[0.4444444444444444,\"#bd3786\"],[0.5555555555555556,\"#d8576b\"],[0.6666666666666666,\"#ed7953\"],[0.7777777777777778,\"#fb9f3a\"],[0.8888888888888888,\"#fdca26\"],[1.0,\"#f0f921\"]]}],\"histogram2dcontour\":[{\"colorbar\":{\"outlinewidth\":0.0,\"ticks\":\"\"},\"colorscale\":[[0.0,\"#0d0887\"],[0.1111111111111111,\"#46039f\"],[0.2222222222222222,\"#7201a8\"],[0.3333333333333333,\"#9c179e\"],[0.4444444444444444,\"#bd3786\"],[0.5555555555555556,\"#d8576b\"],[0.6666666666666666,\"#ed7953\"],[0.7777777777777778,\"#fb9f3a\"],[0.8888888888888888,\"#fdca26\"],[1.0,\"#f0f921\"]]}],\"mesh3d\":[{\"colorbar\":{\"outlinewidth\":0.0,\"ticks\":\"\"}}],\"parcoords\":[{\"line\":{\"colorbar\":{\"outlinewidth\":0.0,\"ticks\":\"\"}}}],\"pie\":[{\"automargin\":true}],\"scatter\":[{\"marker\":{\"colorbar\":{\"outlinewidth\":0.0,\"ticks\":\"\"}}}],\"scatter3d\":[{\"marker\":{\"colorbar\":{\"outlinewidth\":0.0,\"ticks\":\"\"}},\"line\":{\"colorbar\":{\"outlinewidth\":0.0,\"ticks\":\"\"}}}],\"scattercarpet\":[{\"marker\":{\"colorbar\":{\"outlinewidth\":0.0,\"ticks\":\"\"}}}],\"scattergeo\":[{\"marker\":{\"colorbar\":{\"outlinewidth\":0.0,\"ticks\":\"\"}}}],\"scattergl\":[{\"marker\":{\"colorbar\":{\"outlinewidth\":0.0,\"ticks\":\"\"}}}],\"scattermapbox\":[{\"marker\":{\"colorbar\":{\"outlinewidth\":0.0,\"ticks\":\"\"}}}],\"scatterpolar\":[{\"marker\":{\"colorbar\":{\"outlinewidth\":0.0,\"ticks\":\"\"}}}],\"scatterpolargl\":[{\"marker\":{\"colorbar\":{\"outlinewidth\":0.0,\"ticks\":\"\"}}}],\"scatterternary\":[{\"marker\":{\"colorbar\":{\"outlinewidth\":0.0,\"ticks\":\"\"}}}],\"surface\":[{\"colorbar\":{\"outlinewidth\":0.0,\"ticks\":\"\"},\"colorscale\":[[0.0,\"#0d0887\"],[0.1111111111111111,\"#46039f\"],[0.2222222222222222,\"#7201a8\"],[0.3333333333333333,\"#9c179e\"],[0.4444444444444444,\"#bd3786\"],[0.5555555555555556,\"#d8576b\"],[0.6666666666666666,\"#ed7953\"],[0.7777777777777778,\"#fb9f3a\"],[0.8888888888888888,\"#fdca26\"],[1.0,\"#f0f921\"]]}],\"table\":[{\"cells\":{\"fill\":{\"color\":\"rgba(235, 240, 248, 1.0)\"},\"line\":{\"color\":\"rgba(255, 255, 255, 1.0)\"}},\"header\":{\"fill\":{\"color\":\"rgba(200, 212, 227, 1.0)\"},\"line\":{\"color\":\"rgba(255, 255, 255, 1.0)\"}}}]}},\"margin\":{\"l\":10,\"r\":10,\"t\":10,\"b\":10}};\r\n",
       "            var config = {\"responsive\":true};\r\n",
       "            Plotly.newPlot('b6403708-9f41-493c-bfa3-4a0a6f995018', data, layout, config);\r\n",
       "});\r\n",
       "            };\r\n",
       "            if ((typeof(requirejs) !==  typeof(Function)) || (typeof(requirejs.config) !== typeof(Function))) {\r\n",
       "                var script = document.createElement(\"script\");\r\n",
       "                script.setAttribute(\"src\", \"https://cdnjs.cloudflare.com/ajax/libs/require.js/2.3.6/require.min.js\");\r\n",
       "                script.onload = function(){\r\n",
       "                    renderPlotly_b64037089f41493cbfa34a0a6f995018();\r\n",
       "                };\r\n",
       "                document.getElementsByTagName(\"head\")[0].appendChild(script);\r\n",
       "            }\r\n",
       "            else {\r\n",
       "                renderPlotly_b64037089f41493cbfa34a0a6f995018();\r\n",
       "            }\r\n",
       "</script>\r\n",
       "\r\n",
       "    \r\n",
       "</div    \r\n"
      ]
     },
     "metadata": {},
     "output_type": "display_data"
    }
   ],
   "source": [
    "#!share --from sql-splSnapshots filteredAllAuthors\n",
    "using System.Linq;\n",
    "using Microsoft.FSharp.Core;\n",
    "using Plotly.NET;\n",
    "using Plotly.NET.LayoutObjects;\n",
    "using System;\n",
    "using Range = Plotly.NET.StyleParam.Range;\n",
    "using ChartDomain = Plotly.NET.ChartDomain.Chart;\n",
    "\n",
    "var header =  new string[]{\"Author\", \"Item Count\"};\n",
    "var authorsTable = ChartDomain.Table<string, char, IEnumerable<string>,string>(\n",
    "    header\n",
    "    ,filteredAllAuthors[0].Data.Select(x => new string[]{ x[\"NAME\"].ToString(), x[\"authorCount\"].ToString()})\n",
    "    ,MultiColumnWidth: new double[]{.85,.15}\n",
    "    ,CellsAlign: StyleParam.HorizontalAlign.Left\n",
    "    \n",
    ").WithLayout(\n",
    "    Layout.init<int>(\n",
    "        Width:770,\n",
    "        Height:235,\n",
    "        Margin:Margin.init<int,int,int,int,int,int>(Top:10, Left: 10, Right: 10, Bottom:10)\n",
    "));\n",
    "\n",
    "\n",
    "#!html\n",
    "<a id=\"filteredAllAuthors\"></a>\n",
    "\n",
    "#!csharp\n",
    "authorsTable\n",
    "\n"
   ]
  },
  {
   "cell_type": "markdown",
   "metadata": {},
   "source": [
    "The large amount items is also due to different content types.  For Bach there's sheet music, audio CD, audio records, and books\n",
    "for Agatha Christie there's translations, anthologies, and different versions"
   ]
  },
  {
   "cell_type": "code",
   "execution_count": null,
   "metadata": {
    "dotnet_interactive": {
     "language": "sql"
    },
    "vscode": {
     "languageId": "dotnet-interactive.sql"
    }
   },
   "outputs": [],
   "source": [
    "#!sql-splSnapshots --name trumpAuthors\n",
    "\n",
    "\n",
    ";with auth_cte as(\n",
    "    select * from author where (Name like '%carlson%' and name like '%tucker%')\n",
    "    or (Name like '%ted%' and name like '%Cruz%')\n",
    "    OR (Name like '%donald%' and name like '%trump%')\n",
    "    ),\n",
    "    authInventorySum_cte as (\n",
    "    select ei.ReportDate, ac.Name, sum(ei.itemcount) as authoritemcount\n",
    "    from ElementInventory ei\n",
    "    inner join ElementDetail ed on ed.BibNum = ei.BibNum and ed.ReportDate = ei.ReportDate\n",
    "    inner join auth_cte ac on ac.authorid = ed.AuthorId\n",
    "    group by ei.reportdate, ac.Name\n",
    "    )\n",
    "    select * from authInventorySum_cte\n",
    "    order by ReportDate"
   ]
  },
  {
   "cell_type": "code",
   "execution_count": null,
   "metadata": {
    "dotnet_interactive": {
     "language": "csharp"
    },
    "vscode": {
     "languageId": "dotnet-interactive.csharp"
    }
   },
   "outputs": [
    {
     "data": {
      "text/html": [
       "<a id=\"panel\"></a>\r\n",
       "\r\n"
      ]
     },
     "metadata": {},
     "output_type": "display_data"
    },
    {
     "data": {
      "text/html": [
       "\r\n",
       "<div>\r\n",
       "    <div id=\"ecc13e02-f51f-44ec-b882-0772e5dff161\"><!-- Plotly chart will be drawn inside this DIV --></div>\r\n",
       "<script type=\"text/javascript\">\r\n",
       "\r\n",
       "            var renderPlotly_ecc13e02f51f44ecb8820772e5dff161 = function() {\r\n",
       "            var fsharpPlotlyRequire = requirejs.config({context:'fsharp-plotly',paths:{plotly:'https://cdn.plot.ly/plotly-2.6.3.min'}}) || require;\r\n",
       "            fsharpPlotlyRequire(['plotly'], function(Plotly) {\r\n",
       "\r\n",
       "            var data = [{\"type\":\"bar\",\"name\":\"Trump, Donald, 1946-\",\"x\":[\"1/1/2017\",\"2/1/2017\",\"3/1/2017\",\"4/1/2017\",\"5/1/2017\",\"6/1/2017\",\"7/1/2017\",\"8/1/2017\",\"9/1/2017\",\"10/1/2017\",\"11/1/2017\",\"12/1/2017\",\"1/1/2018\",\"2/1/2018\",\"3/1/2018\",\"4/1/2018\",\"5/1/2018\",\"6/1/2018\",\"7/1/2018\",\"8/1/2018\",\"9/1/2018\",\"10/1/2018\",\"11/1/2018\",\"12/1/2018\",\"1/1/2019\",\"2/1/2019\",\"3/1/2019\",\"4/1/2019\",\"5/1/2019\",\"6/1/2019\",\"7/1/2019\",\"8/1/2019\",\"9/1/2019\",\"10/1/2019\",\"11/1/2019\",\"12/1/2019\",\"1/1/2020\",\"2/1/2020\",\"3/1/2020\",\"4/1/2020\",\"5/1/2020\",\"6/1/2020\",\"7/1/2020\",\"8/1/2020\",\"9/1/2020\",\"10/1/2020\",\"11/1/2020\",\"12/1/2020\",\"1/1/2021\",\"2/1/2021\",\"3/1/2021\",\"4/1/2021\",\"5/1/2021\",\"6/1/2021\",\"7/1/2021\",\"8/1/2021\",\"9/1/2021\",\"10/1/2021\",\"11/1/2021\",\"12/1/2021\",\"1/1/2022\",\"2/1/2022\",\"3/1/2022\",\"4/1/2022\",\"5/1/2022\"],\"y\":[37,37,34,42,44,43,42,40,40,39,39,42,41,41,41,41,39,38,38,37,37,37,35,42,41,41,39,38,44,43,40,40,40,39,39,37,37,37,37,37,37,37,37,37,36,36,36,36,36,36,35,33,33,33,33,33,33,33,33,32,32,31,31,29,29],\"orientation\":\"v\",\"marker\":{\"pattern\":{}},\"xaxis\":\"x\",\"yaxis\":\"y\"},{\"type\":\"bar\",\"name\":\"Cruz, Ted, 1970-\",\"x\":[\"1/1/2017\",\"2/1/2017\",\"3/1/2017\",\"4/1/2017\",\"5/1/2017\",\"6/1/2017\",\"7/1/2017\",\"8/1/2017\",\"9/1/2017\",\"10/1/2017\",\"11/1/2017\",\"12/1/2017\",\"1/1/2018\",\"2/1/2018\",\"3/1/2018\",\"4/1/2018\",\"5/1/2018\",\"6/1/2018\",\"7/1/2018\",\"8/1/2018\",\"9/1/2018\",\"10/1/2018\",\"11/1/2018\",\"12/1/2018\",\"1/1/2019\",\"2/1/2019\",\"3/1/2019\",\"4/1/2019\",\"5/1/2019\",\"6/1/2019\",\"7/1/2019\",\"8/1/2019\",\"9/1/2019\",\"10/1/2019\",\"11/1/2019\",\"12/1/2019\",\"1/1/2020\",\"2/1/2020\",\"3/1/2020\",\"4/1/2020\",\"5/1/2020\",\"6/1/2020\",\"7/1/2020\",\"8/1/2020\",\"9/1/2020\",\"10/1/2020\",\"11/1/2020\",\"12/1/2020\",\"1/1/2021\",\"2/1/2021\",\"3/1/2021\",\"4/1/2021\",\"5/1/2021\",\"6/1/2021\",\"7/1/2021\",\"8/1/2021\",\"9/1/2021\",\"10/1/2021\",\"11/1/2021\",\"12/1/2021\",\"1/1/2022\",\"2/1/2022\",\"3/1/2022\",\"4/1/2022\",\"5/1/2022\"],\"y\":[4,4,4,4,4,4,4,4,4,4,4,4,4,4,4,4,4,4,4,3,3,3,3,3,3,3,3,3,3,3,3,3,3,3,3,2,2,2,2,2,2,2,2,2,2,2,2,2,2,7,7,7,7,7,7,7,7,7,7,7,7,7,7,7,7],\"orientation\":\"v\",\"marker\":{\"pattern\":{}},\"xaxis\":\"x2\",\"yaxis\":\"y2\"},{\"type\":\"bar\",\"name\":\"Carlson, Tucker\",\"x\":[\"11/1/2018\",\"12/1/2018\",\"1/1/2019\",\"2/1/2019\",\"3/1/2019\",\"4/1/2019\",\"5/1/2019\",\"6/1/2019\",\"7/1/2019\",\"8/1/2019\",\"9/1/2019\",\"10/1/2019\",\"11/1/2019\",\"12/1/2019\",\"1/1/2020\",\"2/1/2020\",\"3/1/2020\",\"4/1/2020\",\"5/1/2020\",\"6/1/2020\",\"7/1/2020\",\"8/1/2020\",\"9/1/2020\",\"10/1/2020\",\"11/1/2020\",\"12/1/2020\",\"1/1/2021\",\"2/1/2021\",\"3/1/2021\",\"4/1/2021\",\"5/1/2021\",\"6/1/2021\",\"7/1/2021\",\"8/1/2021\",\"9/1/2021\",\"10/1/2021\",\"11/1/2021\",\"12/1/2021\",\"1/1/2022\",\"2/1/2022\",\"3/1/2022\",\"4/1/2022\",\"5/1/2022\"],\"y\":[4,11,13,13,13,13,15,15,15,15,15,15,14,14,14,14,14,14,14,14,14,14,14,13,13,13,13,13,12,12,12,12,12,12,18,18,20,20,20,20,20,20,20],\"orientation\":\"v\",\"marker\":{\"pattern\":{}},\"xaxis\":\"x3\",\"yaxis\":\"y3\"},{\"type\":\"bar\",\"name\":\"Trump, Donald, Jr., 1977-\",\"x\":[\"12/1/2019\",\"1/1/2020\",\"2/1/2020\",\"3/1/2020\",\"4/1/2020\",\"5/1/2020\",\"6/1/2020\",\"7/1/2020\",\"8/1/2020\",\"9/1/2020\",\"10/1/2020\",\"11/1/2020\",\"12/1/2020\",\"1/1/2021\",\"2/1/2021\",\"3/1/2021\",\"4/1/2021\",\"5/1/2021\",\"6/1/2021\",\"7/1/2021\",\"8/1/2021\",\"9/1/2021\",\"10/1/2021\",\"11/1/2021\",\"12/1/2021\",\"1/1/2022\",\"2/1/2022\",\"3/1/2022\",\"4/1/2022\",\"5/1/2022\"],\"y\":[5,5,7,7,7,7,7,7,7,7,7,7,7,7,6,6,6,6,6,6,6,6,6,6,6,6,6,5,5,5],\"orientation\":\"v\",\"marker\":{\"pattern\":{}},\"xaxis\":\"x4\",\"yaxis\":\"y4\"}];\r\n",
       "            var layout = {\"width\":1250,\"height\":1550,\"template\":{\"layout\":{\"title\":{\"x\":0.05},\"font\":{\"color\":\"rgba(42, 63, 95, 1.0)\"},\"paper_bgcolor\":\"rgba(255, 255, 255, 1.0)\",\"plot_bgcolor\":\"rgba(229, 236, 246, 1.0)\",\"autotypenumbers\":\"strict\",\"colorscale\":{\"diverging\":[[0.0,\"#8e0152\"],[0.1,\"#c51b7d\"],[0.2,\"#de77ae\"],[0.3,\"#f1b6da\"],[0.4,\"#fde0ef\"],[0.5,\"#f7f7f7\"],[0.6,\"#e6f5d0\"],[0.7,\"#b8e186\"],[0.8,\"#7fbc41\"],[0.9,\"#4d9221\"],[1.0,\"#276419\"]],\"sequential\":[[0.0,\"#0d0887\"],[0.1111111111111111,\"#46039f\"],[0.2222222222222222,\"#7201a8\"],[0.3333333333333333,\"#9c179e\"],[0.4444444444444444,\"#bd3786\"],[0.5555555555555556,\"#d8576b\"],[0.6666666666666666,\"#ed7953\"],[0.7777777777777778,\"#fb9f3a\"],[0.8888888888888888,\"#fdca26\"],[1.0,\"#f0f921\"]],\"sequentialminus\":[[0.0,\"#0d0887\"],[0.1111111111111111,\"#46039f\"],[0.2222222222222222,\"#7201a8\"],[0.3333333333333333,\"#9c179e\"],[0.4444444444444444,\"#bd3786\"],[0.5555555555555556,\"#d8576b\"],[0.6666666666666666,\"#ed7953\"],[0.7777777777777778,\"#fb9f3a\"],[0.8888888888888888,\"#fdca26\"],[1.0,\"#f0f921\"]]},\"hovermode\":\"closest\",\"hoverlabel\":{\"align\":\"left\"},\"coloraxis\":{\"colorbar\":{\"outlinewidth\":0.0,\"ticks\":\"\"}},\"geo\":{\"showland\":true,\"landcolor\":\"rgba(229, 236, 246, 1.0)\",\"showlakes\":true,\"lakecolor\":\"rgba(255, 255, 255, 1.0)\",\"subunitcolor\":\"rgba(255, 255, 255, 1.0)\",\"bgcolor\":\"rgba(255, 255, 255, 1.0)\"},\"mapbox\":{\"style\":\"light\"},\"polar\":{\"bgcolor\":\"rgba(229, 236, 246, 1.0)\",\"radialaxis\":{\"linecolor\":\"rgba(255, 255, 255, 1.0)\",\"gridcolor\":\"rgba(255, 255, 255, 1.0)\",\"ticks\":\"\"},\"angularaxis\":{\"linecolor\":\"rgba(255, 255, 255, 1.0)\",\"gridcolor\":\"rgba(255, 255, 255, 1.0)\",\"ticks\":\"\"}},\"scene\":{\"xaxis\":{\"ticks\":\"\",\"linecolor\":\"rgba(255, 255, 255, 1.0)\",\"gridcolor\":\"rgba(255, 255, 255, 1.0)\",\"gridwidth\":2.0,\"zerolinecolor\":\"rgba(255, 255, 255, 1.0)\",\"backgroundcolor\":\"rgba(229, 236, 246, 1.0)\",\"showbackground\":true},\"yaxis\":{\"ticks\":\"\",\"linecolor\":\"rgba(255, 255, 255, 1.0)\",\"gridcolor\":\"rgba(255, 255, 255, 1.0)\",\"gridwidth\":2.0,\"zerolinecolor\":\"rgba(255, 255, 255, 1.0)\",\"backgroundcolor\":\"rgba(229, 236, 246, 1.0)\",\"showbackground\":true},\"zaxis\":{\"ticks\":\"\",\"linecolor\":\"rgba(255, 255, 255, 1.0)\",\"gridcolor\":\"rgba(255, 255, 255, 1.0)\",\"gridwidth\":2.0,\"zerolinecolor\":\"rgba(255, 255, 255, 1.0)\",\"backgroundcolor\":\"rgba(229, 236, 246, 1.0)\",\"showbackground\":true}},\"ternary\":{\"aaxis\":{\"ticks\":\"\",\"linecolor\":\"rgba(255, 255, 255, 1.0)\",\"gridcolor\":\"rgba(255, 255, 255, 1.0)\"},\"baxis\":{\"ticks\":\"\",\"linecolor\":\"rgba(255, 255, 255, 1.0)\",\"gridcolor\":\"rgba(255, 255, 255, 1.0)\"},\"caxis\":{\"ticks\":\"\",\"linecolor\":\"rgba(255, 255, 255, 1.0)\",\"gridcolor\":\"rgba(255, 255, 255, 1.0)\"},\"bgcolor\":\"rgba(229, 236, 246, 1.0)\"},\"xaxis\":{\"title\":{\"standoff\":15},\"ticks\":\"\",\"automargin\":true,\"linecolor\":\"rgba(255, 255, 255, 1.0)\",\"gridcolor\":\"rgba(255, 255, 255, 1.0)\",\"zerolinecolor\":\"rgba(255, 255, 255, 1.0)\",\"zerolinewidth\":2.0},\"yaxis\":{\"title\":{\"standoff\":15},\"ticks\":\"\",\"automargin\":true,\"linecolor\":\"rgba(255, 255, 255, 1.0)\",\"gridcolor\":\"rgba(255, 255, 255, 1.0)\",\"zerolinecolor\":\"rgba(255, 255, 255, 1.0)\",\"zerolinewidth\":2.0},\"annotationdefaults\":{\"arrowcolor\":\"#2a3f5f\",\"arrowhead\":0,\"arrowwidth\":1},\"shapedefaults\":{\"line\":{\"color\":\"rgba(42, 63, 95, 1.0)\"}},\"colorway\":[\"rgba(99, 110, 250, 1.0)\",\"rgba(239, 85, 59, 1.0)\",\"rgba(0, 204, 150, 1.0)\",\"rgba(171, 99, 250, 1.0)\",\"rgba(255, 161, 90, 1.0)\",\"rgba(25, 211, 243, 1.0)\",\"rgba(255, 102, 146, 1.0)\",\"rgba(182, 232, 128, 1.0)\",\"rgba(255, 151, 255, 1.0)\",\"rgba(254, 203, 82, 1.0)\"]},\"data\":{\"bar\":[{\"marker\":{\"line\":{\"color\":\"rgba(229, 236, 246, 1.0)\",\"width\":0.5},\"pattern\":{\"fillmode\":\"overlay\",\"size\":10,\"solidity\":0.2}},\"error_x\":{\"color\":\"rgba(42, 63, 95, 1.0)\"},\"error_y\":{\"color\":\"rgba(42, 63, 95, 1.0)\"}}],\"barpolar\":[{\"marker\":{\"line\":{\"color\":\"rgba(229, 236, 246, 1.0)\",\"width\":0.5},\"pattern\":{\"fillmode\":\"overlay\",\"size\":10,\"solidity\":0.2}}}],\"carpet\":[{\"aaxis\":{\"linecolor\":\"rgba(255, 255, 255, 1.0)\",\"gridcolor\":\"rgba(255, 255, 255, 1.0)\",\"endlinecolor\":\"rgba(42, 63, 95, 1.0)\",\"minorgridcolor\":\"rgba(255, 255, 255, 1.0)\",\"startlinecolor\":\"rgba(42, 63, 95, 1.0)\"},\"baxis\":{\"linecolor\":\"rgba(255, 255, 255, 1.0)\",\"gridcolor\":\"rgba(255, 255, 255, 1.0)\",\"endlinecolor\":\"rgba(42, 63, 95, 1.0)\",\"minorgridcolor\":\"rgba(255, 255, 255, 1.0)\",\"startlinecolor\":\"rgba(42, 63, 95, 1.0)\"}}],\"choropleth\":[{\"colorbar\":{\"outlinewidth\":0.0,\"ticks\":\"\"},\"colorscale\":[[0.0,\"#0d0887\"],[0.1111111111111111,\"#46039f\"],[0.2222222222222222,\"#7201a8\"],[0.3333333333333333,\"#9c179e\"],[0.4444444444444444,\"#bd3786\"],[0.5555555555555556,\"#d8576b\"],[0.6666666666666666,\"#ed7953\"],[0.7777777777777778,\"#fb9f3a\"],[0.8888888888888888,\"#fdca26\"],[1.0,\"#f0f921\"]]}],\"contour\":[{\"colorbar\":{\"outlinewidth\":0.0,\"ticks\":\"\"},\"colorscale\":[[0.0,\"#0d0887\"],[0.1111111111111111,\"#46039f\"],[0.2222222222222222,\"#7201a8\"],[0.3333333333333333,\"#9c179e\"],[0.4444444444444444,\"#bd3786\"],[0.5555555555555556,\"#d8576b\"],[0.6666666666666666,\"#ed7953\"],[0.7777777777777778,\"#fb9f3a\"],[0.8888888888888888,\"#fdca26\"],[1.0,\"#f0f921\"]]}],\"contourcarpet\":[{\"colorbar\":{\"outlinewidth\":0.0,\"ticks\":\"\"}}],\"heatmap\":[{\"colorbar\":{\"outlinewidth\":0.0,\"ticks\":\"\"},\"colorscale\":[[0.0,\"#0d0887\"],[0.1111111111111111,\"#46039f\"],[0.2222222222222222,\"#7201a8\"],[0.3333333333333333,\"#9c179e\"],[0.4444444444444444,\"#bd3786\"],[0.5555555555555556,\"#d8576b\"],[0.6666666666666666,\"#ed7953\"],[0.7777777777777778,\"#fb9f3a\"],[0.8888888888888888,\"#fdca26\"],[1.0,\"#f0f921\"]]}],\"heatmapgl\":[{\"colorbar\":{\"outlinewidth\":0.0,\"ticks\":\"\"},\"colorscale\":[[0.0,\"#0d0887\"],[0.1111111111111111,\"#46039f\"],[0.2222222222222222,\"#7201a8\"],[0.3333333333333333,\"#9c179e\"],[0.4444444444444444,\"#bd3786\"],[0.5555555555555556,\"#d8576b\"],[0.6666666666666666,\"#ed7953\"],[0.7777777777777778,\"#fb9f3a\"],[0.8888888888888888,\"#fdca26\"],[1.0,\"#f0f921\"]]}],\"histogram\":[{\"marker\":{\"pattern\":{\"fillmode\":\"overlay\",\"size\":10,\"solidity\":0.2}}}],\"histogram2d\":[{\"colorbar\":{\"outlinewidth\":0.0,\"ticks\":\"\"},\"colorscale\":[[0.0,\"#0d0887\"],[0.1111111111111111,\"#46039f\"],[0.2222222222222222,\"#7201a8\"],[0.3333333333333333,\"#9c179e\"],[0.4444444444444444,\"#bd3786\"],[0.5555555555555556,\"#d8576b\"],[0.6666666666666666,\"#ed7953\"],[0.7777777777777778,\"#fb9f3a\"],[0.8888888888888888,\"#fdca26\"],[1.0,\"#f0f921\"]]}],\"histogram2dcontour\":[{\"colorbar\":{\"outlinewidth\":0.0,\"ticks\":\"\"},\"colorscale\":[[0.0,\"#0d0887\"],[0.1111111111111111,\"#46039f\"],[0.2222222222222222,\"#7201a8\"],[0.3333333333333333,\"#9c179e\"],[0.4444444444444444,\"#bd3786\"],[0.5555555555555556,\"#d8576b\"],[0.6666666666666666,\"#ed7953\"],[0.7777777777777778,\"#fb9f3a\"],[0.8888888888888888,\"#fdca26\"],[1.0,\"#f0f921\"]]}],\"mesh3d\":[{\"colorbar\":{\"outlinewidth\":0.0,\"ticks\":\"\"}}],\"parcoords\":[{\"line\":{\"colorbar\":{\"outlinewidth\":0.0,\"ticks\":\"\"}}}],\"pie\":[{\"automargin\":true}],\"scatter\":[{\"marker\":{\"colorbar\":{\"outlinewidth\":0.0,\"ticks\":\"\"}}}],\"scatter3d\":[{\"marker\":{\"colorbar\":{\"outlinewidth\":0.0,\"ticks\":\"\"}},\"line\":{\"colorbar\":{\"outlinewidth\":0.0,\"ticks\":\"\"}}}],\"scattercarpet\":[{\"marker\":{\"colorbar\":{\"outlinewidth\":0.0,\"ticks\":\"\"}}}],\"scattergeo\":[{\"marker\":{\"colorbar\":{\"outlinewidth\":0.0,\"ticks\":\"\"}}}],\"scattergl\":[{\"marker\":{\"colorbar\":{\"outlinewidth\":0.0,\"ticks\":\"\"}}}],\"scattermapbox\":[{\"marker\":{\"colorbar\":{\"outlinewidth\":0.0,\"ticks\":\"\"}}}],\"scatterpolar\":[{\"marker\":{\"colorbar\":{\"outlinewidth\":0.0,\"ticks\":\"\"}}}],\"scatterpolargl\":[{\"marker\":{\"colorbar\":{\"outlinewidth\":0.0,\"ticks\":\"\"}}}],\"scatterternary\":[{\"marker\":{\"colorbar\":{\"outlinewidth\":0.0,\"ticks\":\"\"}}}],\"surface\":[{\"colorbar\":{\"outlinewidth\":0.0,\"ticks\":\"\"},\"colorscale\":[[0.0,\"#0d0887\"],[0.1111111111111111,\"#46039f\"],[0.2222222222222222,\"#7201a8\"],[0.3333333333333333,\"#9c179e\"],[0.4444444444444444,\"#bd3786\"],[0.5555555555555556,\"#d8576b\"],[0.6666666666666666,\"#ed7953\"],[0.7777777777777778,\"#fb9f3a\"],[0.8888888888888888,\"#fdca26\"],[1.0,\"#f0f921\"]]}],\"table\":[{\"cells\":{\"fill\":{\"color\":\"rgba(235, 240, 248, 1.0)\"},\"line\":{\"color\":\"rgba(255, 255, 255, 1.0)\"}},\"header\":{\"fill\":{\"color\":\"rgba(200, 212, 227, 1.0)\"},\"line\":{\"color\":\"rgba(255, 255, 255, 1.0)\"}}}]}},\"xaxis\":{\"title\":{},\"showline\":true,\"showgrid\":false},\"yaxis\":{\"title\":{}},\"annotations\":[{\"text\":\"Trump, Donald, 1946-\",\"showarrow\":false,\"xref\":\"x1 domain\",\"yref\":\"y1 domain\",\"x\":0.5,\"y\":1,\"yshift\":30},{\"text\":\"Cruz, Ted, 1970-\",\"showarrow\":false,\"xref\":\"x2 domain\",\"yref\":\"y2 domain\",\"x\":0.5,\"y\":1,\"yshift\":30},{\"text\":\"Carlson, Tucker\",\"showarrow\":false,\"xref\":\"x3 domain\",\"yref\":\"y3 domain\",\"x\":0.5,\"y\":1,\"yshift\":30},{\"text\":\"Trump, Donald, Jr., 1977-\",\"showarrow\":false,\"xref\":\"x4 domain\",\"yref\":\"y4 domain\",\"x\":0.5,\"y\":1,\"yshift\":30}],\"xaxis2\":{\"title\":{},\"showline\":true,\"showgrid\":false},\"yaxis2\":{\"title\":{}},\"xaxis3\":{\"title\":{},\"showline\":true,\"showgrid\":false},\"yaxis3\":{\"title\":{}},\"xaxis4\":{\"title\":{},\"showline\":true,\"showgrid\":false},\"yaxis4\":{\"title\":{}},\"grid\":{\"rows\":4,\"columns\":1,\"pattern\":\"independent\",\"xgap\":0.1,\"ygap\":0.37,\"subplots\":[[\"xy\"],[\"x2y2\"],[\"x3y3\"],[\"x4y4\"]]},\"showlegend\":false,\"colorway\":[\"rgba(255, 165, 0, 1.0)\",\"rgba(219, 112, 147, 1.0)\",\"rgba(219, 112, 147, 1.0)\",\"rgba(219, 112, 147, 1.0)\"],\"dragmode\":\"pan\"};\r\n",
       "            var config = {\"responsive\":true};\r\n",
       "            Plotly.newPlot('ecc13e02-f51f-44ec-b882-0772e5dff161', data, layout, config);\r\n",
       "});\r\n",
       "            };\r\n",
       "            if ((typeof(requirejs) !==  typeof(Function)) || (typeof(requirejs.config) !== typeof(Function))) {\r\n",
       "                var script = document.createElement(\"script\");\r\n",
       "                script.setAttribute(\"src\", \"https://cdnjs.cloudflare.com/ajax/libs/require.js/2.3.6/require.min.js\");\r\n",
       "                script.onload = function(){\r\n",
       "                    renderPlotly_ecc13e02f51f44ecb8820772e5dff161();\r\n",
       "                };\r\n",
       "                document.getElementsByTagName(\"head\")[0].appendChild(script);\r\n",
       "            }\r\n",
       "            else {\r\n",
       "                renderPlotly_ecc13e02f51f44ecb8820772e5dff161();\r\n",
       "            }\r\n",
       "</script>\r\n",
       "\r\n",
       "    \r\n",
       "</div    \r\n"
      ]
     },
     "metadata": {},
     "output_type": "display_data"
    }
   ],
   "source": [
    "#!share --from sql-splSnapshots trumpAuthors\n",
    "using System;\n",
    "using System.Linq;\n",
    "using Microsoft.FSharp.Core;\n",
    "using Plotly.NET;\n",
    "using Plotly.NET.LayoutObjects;\n",
    "using Range = Plotly.NET.StyleParam.Range;\n",
    "using static Plotly.NET.StyleParam;\n",
    "\n",
    "\n",
    "List<GenericChart.GenericChart> charts = new();\n",
    "var annotation = new Annotation();\n",
    "int chartIndx = 1;\n",
    "foreach(var g in trumpAuthors[0].Data.GroupBy(x=>x[\"Name\"])){\n",
    "    annotation = new Annotation();\n",
    "    annotation.SetValue(\"text\", g.Key.ToString());\n",
    "    annotation.SetValue(\"showarrow\", false);\n",
    "    annotation.SetValue(\"xref\", $\"x{chartIndx} domain\" );\n",
    "    annotation.SetValue(\"yref\", $\"y{chartIndx++} domain\"); //paper\n",
    "    annotation.SetValue(\"x\", .5);\n",
    "    annotation.SetValue(\"y\", 1);\n",
    "    annotation.SetValue(\"yshift\", 30);\n",
    "\n",
    "    charts.Add(\n",
    "        Chart2D.Chart.Column<string, int, string, string, string>(\n",
    "            Name:g.Key.ToString()  ,\n",
    "            keysValues: new List<Tuple<string,int>>(\n",
    "                g.Select(kvp => new Tuple<string, int>(((DateTime)kvp[\"ReportDate\"]).ToShortDateString(), int.Parse(kvp[\"authoritemcount\"].ToString())))\n",
    "            )   \n",
    "        )\n",
    "        .WithXAxisStyle(title: Title.init(),ShowGrid:false, ShowLine:true)\n",
    "        .WithYAxisStyle(title: Title.init())\n",
    "        .WithAnnotation(annotation)\n",
    "       // .WithYAxis(LinearAxis.init<int,int,int,int,int,int>(Range:Range.NewMinMax(0,maxRange*1.05)))\n",
    "    );\n",
    "}\n",
    "\n",
    "var layout = Layout.init<int>(\n",
    "    Width:1250,\n",
    "     Height:1550,\n",
    "     DragMode:StyleParam.DragMode.Pan\n",
    "     ,Grid: LayoutGrid.init(\n",
    "         SubPlots:\n",
    "        new Tuple<StyleParam.LinearAxisId, StyleParam.LinearAxisId>[][]\n",
    "        {\n",
    "            new Tuple<StyleParam.LinearAxisId, StyleParam.LinearAxisId>[]{ Tuple.Create(StyleParam.LinearAxisId.NewX(1), StyleParam.LinearAxisId.NewY(1)) , },\n",
    "            new Tuple<StyleParam.LinearAxisId, StyleParam.LinearAxisId>[]{ Tuple.Create(StyleParam.LinearAxisId.NewX(2), StyleParam.LinearAxisId.NewY(2)) , },\n",
    "            new Tuple<StyleParam.LinearAxisId, StyleParam.LinearAxisId>[]{ Tuple.Create(StyleParam.LinearAxisId.NewX(3), StyleParam.LinearAxisId.NewY(3)), },\n",
    "            new Tuple<StyleParam.LinearAxisId, StyleParam.LinearAxisId>[]{ Tuple.Create(StyleParam.LinearAxisId.NewX(4), StyleParam.LinearAxisId.NewY(4)), }\n",
    "           }\n",
    "        )\n",
    "     ,Colorway:Color.fromColors(\n",
    "         Enumerable.Repeat(Color.fromKeyword(ColorKeyword.PaleVioletRed),3)\n",
    "         .Prepend(Color.fromKeyword(ColorKeyword.Orange))\n",
    "         )\n",
    "     ,ShowLegend:false\n",
    "    );\n",
    "    var g = Chart.Grid<IEnumerable<GenericChart.GenericChart>>(4,1\n",
    "        ,YGap:.37    \n",
    "        ,XGap:.1\n",
    "        )\n",
    "    .Invoke(charts)\n",
    "    .WithLayout(layout\n",
    "        );\n",
    "\n",
    "#!html\n",
    "<a id=\"panel\"></a>\n",
    "\n",
    "#!csharp\n",
    "g"
   ]
  }
 ],
 "metadata": {
  "kernelspec": {
   "display_name": ".NET (C#)",
   "language": "C#",
   "name": ".net-csharp"
  },
  "language_info": {
   "name": "C#"
  }
 },
 "nbformat": 4,
 "nbformat_minor": 2
}
