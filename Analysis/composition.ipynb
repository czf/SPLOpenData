{
 "cells": [
  {
   "cell_type": "code",
   "execution_count": null,
   "metadata": {
    "dotnet_interactive": {
     "language": "csharp"
    },
    "vscode": {
     "languageId": "dotnet-interactive.csharp"
    }
   },
   "outputs": [],
   "source": [
    "#r \"nuget:Microsoft.DotNet.Interactive.PowerShell,*-*\"\n",
    "#r \"nuget:Microsoft.DotNet.Interactive.Http,*-*\"\n",
    "#r \"nuget:Microsoft.DotNet.Interactive.SqlServer,*-*\"\n",
    "#r \"nuget:FSharp.Core, *-*\"\n",
    "#r \"nuget:Plotly.NET,*-*\"\n",
    "#r \"nuget: Plotly.NET.Interactive, *-*\"\n",
    "using Plotly.NET;"
   ]
  },
  {
   "cell_type": "code",
   "execution_count": null,
   "metadata": {
    "dotnet_interactive": {
     "language": "csharp"
    },
    "vscode": {
     "languageId": "dotnet-interactive.csharp"
    }
   },
   "outputs": [
    {
     "data": {
      "text/plain": [
       "Kernel added: #!sql-splSnapshots"
      ]
     },
     "metadata": {},
     "output_type": "display_data"
    }
   ],
   "source": [
    "#!connect mssql --kernel-name splSnapshots \"Server=localhost;Database=SeattlePublicLibraryOpenData;Trusted_Connection=True;TrustServerCertificate=true;\""
   ]
  },
  {
   "cell_type": "code",
   "execution_count": null,
   "metadata": {
    "dotnet_interactive": {
     "language": "sql"
    },
    "vscode": {
     "languageId": "dotnet-interactive.sql"
    }
   },
   "outputs": [],
   "source": [
    "#!sql-splSnapshots --name itemTypeAgeGroup\n",
    "\n",
    "\n",
    ";WITH ageGroup_cte\n",
    "AS (SELECT\n",
    "  ReportDate,\n",
    "  AgeGroup,\n",
    "  COUNT(DISTINCT bibnum) AS ItemCount,\n",
    "  SUM(ei.itemcount) AS InventoryCount\n",
    "\n",
    "FROM ElementInventory ei\n",
    "INNER JOIN ItemType it\n",
    "  ON ei.ItemTypeCode = it.Code\n",
    "WHERE ei.ItemCount > 0\n",
    "GROUP BY ReportDate,\n",
    "         AgeGroup),\n",
    "calculatedReportDateTotal_cte\n",
    "AS (SELECT\n",
    "  ReportDate,\n",
    "  SUM(itemcount) AS itemCountSum,\n",
    "  SUM(inventoryCount) AS inventoryCountSum\n",
    "FROM ageGroup_cte\n",
    "GROUP BY ReportDate)\n",
    "SELECT\n",
    "  r.ReportDate,\n",
    "  AgeGroup,\n",
    "  CAST(ItemCount AS float) / itemCountSum * 100 AS AgeGroupItemPercentage,\n",
    "  CAST(InventoryCount AS float) / inventoryCountSum * 100 AS AgeGroupInventoryPercentage\n",
    "\n",
    "FROM calculatedReportDateTotal_cte r\n",
    "INNER JOIN ageGroup_cte a\n",
    "  ON a.ReportDate = r.ReportDate\n",
    "\n",
    "ORDER BY ReportDate, AgeGroup\n",
    "\n",
    "\n"
   ]
  },
  {
   "cell_type": "code",
   "execution_count": null,
   "metadata": {
    "dotnet_interactive": {
     "language": "csharp"
    },
    "vscode": {
     "languageId": "dotnet-interactive.csharp"
    }
   },
   "outputs": [],
   "source": [
    "#!share --from sql-splSnapshots itemTypeAgeGroup\n",
    "\n",
    "using System.Linq;\n",
    "using Microsoft.FSharp.Core;\n",
    "using Plotly.NET;\n",
    "using Plotly.NET.LayoutObjects;\n",
    "\n",
    "\n",
    "\n",
    "\n",
    "\n",
    "#!html\n",
    "<a id=\"ageGroup\"></a>"
   ]
  },
  {
   "cell_type": "code",
   "execution_count": null,
   "metadata": {
    "dotnet_interactive": {
     "language": "csharp"
    },
    "vscode": {
     "languageId": "dotnet-interactive.csharp"
    }
   },
   "outputs": [],
   "source": [
    "#!sql-splSnapshots --name itemTypeFormat\n",
    "\n",
    "SELECT ReportDate,\n",
    "       FormatGroup,\n",
    "       Count(DISTINCT bibnum) as ItemCount,\n",
    "       Sum(ei.itemcount) as InventoryCount\n",
    "FROM   ElementInventory ei\n",
    "       INNER JOIN ItemType it\n",
    "               ON ei.ItemTypeCode = it.Code\n",
    "\n",
    "GROUP  BY ReportDate,\n",
    "          FormatGroup "
   ]
  },
  {
   "cell_type": "code",
   "execution_count": null,
   "metadata": {
    "dotnet_interactive": {
     "language": "sql"
    },
    "vscode": {
     "languageId": "dotnet-interactive.sql"
    }
   },
   "outputs": [],
   "source": [
    "#!share --from sql-splSnapshots itemTypeFormat\n",
    "\n",
    "using System.Linq;\n",
    "using Microsoft.FSharp.Core;\n",
    "using Plotly.NET;\n",
    "using Plotly.NET.LayoutObjects;\n",
    "\n"
   ]
  },
  {
   "cell_type": "code",
   "execution_count": null,
   "metadata": {
    "dotnet_interactive": {
     "language": "sql"
    },
    "vscode": {
     "languageId": "dotnet-interactive.sql"
    }
   },
   "outputs": [],
   "source": [
    "#!sql-splSnapshots --name itemCollectionFormat\n",
    "\n",
    "-- SELECT ReportDate,\n",
    "--        FormatGroup,\n",
    "--        Count(DISTINCT bibnum) as ItemCount,\n",
    "--        Sum(ei.itemcount) as InventoryCount\n",
    "-- FROM   ElementInventory ei\n",
    "--        INNER JOIN ItemCollection ic\n",
    "--                ON ei.ItemCollectionCode = ic.Code\n",
    "-- GROUP  BY ReportDate,\n",
    "--           FormatGroup "
   ]
  }
 ],
 "metadata": {
  "kernelspec": {
   "display_name": ".NET (C#)",
   "language": "C#",
   "name": ".net-csharp"
  },
  "language_info": {
   "name": "C#"
  }
 },
 "nbformat": 4,
 "nbformat_minor": 2
}
