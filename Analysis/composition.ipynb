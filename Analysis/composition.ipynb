{
 "cells": [
  {
   "cell_type": "code",
   "execution_count": null,
   "metadata": {
    "dotnet_interactive": {
     "language": "csharp"
    },
    "vscode": {
     "languageId": "dotnet-interactive.csharp"
    }
   },
   "outputs": [],
   "source": [
    "#r \"nuget:Microsoft.DotNet.Interactive.PowerShell,*-*\"\n",
    "#r \"nuget:Microsoft.DotNet.Interactive.Http,*-*\"\n",
    "#r \"nuget:Microsoft.DotNet.Interactive.SqlServer,*-*\"\n",
    "#r \"nuget:Plotly.NET,*-*\"\n",
    "#r \"nuget: Plotly.NET.Interactive, *-*\"\n",
    "using Plotly.NET;"
   ]
  },
  {
   "cell_type": "code",
   "execution_count": null,
   "metadata": {
    "dotnet_interactive": {
     "language": "csharp"
    },
    "vscode": {
     "languageId": "dotnet-interactive.csharp"
    }
   },
   "outputs": [],
   "source": [
    "#!connect mssql --kernel-name splSnapshots \"Server=localhost;Database=SeattlePublicLibraryOpenData;Trusted_Connection=True;TrustServerCertificate=true;\""
   ]
  },
  {
   "cell_type": "code",
   "execution_count": null,
   "metadata": {
    "dotnet_interactive": {
     "language": "csharp"
    },
    "vscode": {
     "languageId": "dotnet-interactive.csharp"
    }
   },
   "outputs": [],
   "source": [
    "#!sql-splSnapshots --name itemTypeFormat\n",
    "\n",
    "SELECT ReportDate,\n",
    "       FormatGroup,\n",
    "       Count(DISTINCT bibnum) as ItemCount,\n",
    "       Sum(ei.itemcount) as InventoryCount\n",
    "FROM   ElementInventory ei\n",
    "       INNER JOIN ItemType it\n",
    "               ON ei.ItemTypeCode = it.Code\n",
    "\n",
    "GROUP  BY ReportDate,\n",
    "          FormatGroup "
   ]
  },
  {
   "cell_type": "code",
   "execution_count": null,
   "metadata": {
    "dotnet_interactive": {
     "language": "sql"
    },
    "vscode": {
     "languageId": "dotnet-interactive.sql"
    }
   },
   "outputs": [],
   "source": [
    "#!share --from sql-splSnapshots itemTypeFormat\n",
    "\n",
    "using System.Linq;\n",
    "using Microsoft.FSharp.Core;\n",
    "using Plotly.NET;\n",
    "using Plotly.NET.LayoutObjects;\n",
    "\n"
   ]
  },
  {
   "cell_type": "code",
   "execution_count": null,
   "metadata": {
    "dotnet_interactive": {
     "language": "sql"
    },
    "vscode": {
     "languageId": "dotnet-interactive.sql"
    }
   },
   "outputs": [],
   "source": [
    "#!sql-splSnapshots --name itemCollectionFormat\n",
    "\n",
    "SELECT ReportDate,\n",
    "       FormatGroup,\n",
    "       Count(DISTINCT bibnum) as ItemCount,\n",
    "       Sum(ei.itemcount) as InventoryCount\n",
    "FROM   ElementInventory ei\n",
    "       INNER JOIN ItemCollection ic\n",
    "               ON ei.ItemCollectionCode = ic.Code\n",
    "GROUP  BY ReportDate,\n",
    "          FormatGroup "
   ]
  }
 ],
 "metadata": {
  "kernelspec": {
   "display_name": ".NET (C#)",
   "language": "C#",
   "name": ".net-csharp"
  },
  "language_info": {
   "name": "C#"
  }
 },
 "nbformat": 4,
 "nbformat_minor": 2
}
