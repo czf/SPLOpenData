{
 "cells": [
  {
   "cell_type": "code",
   "execution_count": null,
   "metadata": {
    "dotnet_interactive": {
     "language": "csharp"
    },
    "vscode": {
     "languageId": "dotnet-interactive.csharp"
    }
   },
   "outputs": [],
   "source": [
    "\n",
    "#r \"nuget:Microsoft.DotNet.Interactive.SqlServer,1.0.0-beta.22175.2\"\n",
    "#r \"nuget:Microsoft.DotNet.Interactive,1.0.0-beta.22175.2\"\n",
    "#r \"nuget:Microsoft.DotNet.Interactive.PowerShell,1.0.0-beta.22175.2\"\n",
    "#r \"nuget:Microsoft.DotNet.Interactive.Http,1.0.0-beta.22175.2\"\n",
    "\n",
    "#r \"nuget:FSharp.Core, *-*\"\n",
    "#r \"nuget:Plotly.NET,*-*\"\n",
    "#r \"nuget: Plotly.NET.Interactive, *-*\"\n",
    "using Plotly.NET;\n",
    "\n",
    "\n"
   ]
  },
  {
   "cell_type": "code",
   "execution_count": null,
   "metadata": {
    "dotnet_interactive": {
     "language": "csharp"
    },
    "vscode": {
     "languageId": "dotnet-interactive.csharp"
    }
   },
   "outputs": [],
   "source": [
    "#!connect mssql --kernel-name splSnapshots \"Server=localhost;Database=SeattlePublicLibraryOpenData;Trusted_Connection=True;TrustServerCertificate=true;\""
   ]
  },
  {
   "cell_type": "code",
   "execution_count": null,
   "metadata": {
    "dotnet_interactive": {
     "language": "sql"
    },
    "vscode": {
     "languageId": "dotnet-interactive.sql"
    }
   },
   "outputs": [],
   "source": [
    "#!sql-splSnapshots --name itemTypeAgeGroup\n",
    "\n",
    "\n",
    ";WITH ageGroup_cte\n",
    "AS (SELECT\n",
    "  ReportDate,\n",
    "  AgeGroup,\n",
    "  COUNT(DISTINCT bibnum) AS ItemCount,\n",
    "  SUM(ei.itemcount) AS InventoryCount\n",
    "\n",
    "FROM ElementInventory ei\n",
    "INNER JOIN ItemType it\n",
    "  ON ei.ItemTypeCode = it.Code\n",
    "WHERE ei.ItemCount > 0\n",
    "GROUP BY ReportDate,\n",
    "         AgeGroup),\n",
    "calculatedReportDateTotal_cte\n",
    "AS (SELECT\n",
    "  ReportDate,\n",
    "  SUM(itemcount) AS itemCountSum,\n",
    "  SUM(inventoryCount) AS inventoryCountSum\n",
    "FROM ageGroup_cte\n",
    "GROUP BY ReportDate)\n",
    "SELECT\n",
    "  r.ReportDate,\n",
    "  AgeGroup,\n",
    "  CAST(ItemCount AS float) / itemCountSum * 100 AS AgeGroupItemPercentage,\n",
    "  CAST(InventoryCount AS float) / inventoryCountSum * 100 AS AgeGroupInventoryPercentage\n",
    "\n",
    "FROM calculatedReportDateTotal_cte r\n",
    "INNER JOIN ageGroup_cte a\n",
    "  ON a.ReportDate = r.ReportDate\n",
    "\n",
    "ORDER BY ReportDate, AgeGroup\n",
    "\n",
    "\n"
   ]
  },
  {
   "cell_type": "code",
   "execution_count": null,
   "metadata": {
    "dotnet_interactive": {
     "language": "sql"
    },
    "vscode": {
     "languageId": "dotnet-interactive.csharp"
    }
   },
   "outputs": [
    {
     "data": {
      "text/html": [
       "\r\n",
       "<div>\r\n",
       "    <div id=\"e54a5d49-b308-4684-96c0-209c01820cf5\"><!-- Plotly chart will be drawn inside this DIV --></div>\r\n",
       "<script type=\"text/javascript\">\r\n",
       "\r\n",
       "            var renderPlotly_e54a5d49b308468496c0209c01820cf5 = function() {\r\n",
       "            var fsharpPlotlyRequire = requirejs.config({context:'fsharp-plotly',paths:{plotly:'https://cdn.plot.ly/plotly-2.6.3.min'}}) || require;\r\n",
       "            fsharpPlotlyRequire(['plotly'], function(Plotly) {\r\n",
       "\r\n",
       "            var data = [{\"type\":\"bar\",\"x\":[[\"a\",\"a\",\"b\",\"b\"],[\"sub1\",\"sub2\",\"sub1\",\"sub2\"]],\"y\":[2,4,6,8],\"name\":\"name1\"},{\"type\":\"bar\",\"x\":[[\"a\",\"a\",\"b\",\"b\"],[\"sub1\",\"sub2\",\"sub1\",\"sub2\"]],\"y\":[1,2,3,4],\"name\":\"name2\"}];\r\n",
       "            var layout = {};\r\n",
       "            var config = {};\r\n",
       "            Plotly.newPlot('e54a5d49-b308-4684-96c0-209c01820cf5', data, layout, config);\r\n",
       "});\r\n",
       "            };\r\n",
       "            if ((typeof(requirejs) !==  typeof(Function)) || (typeof(requirejs.config) !== typeof(Function))) {\r\n",
       "                var script = document.createElement(\"script\");\r\n",
       "                script.setAttribute(\"src\", \"https://cdnjs.cloudflare.com/ajax/libs/require.js/2.3.6/require.min.js\");\r\n",
       "                script.onload = function(){\r\n",
       "                    renderPlotly_e54a5d49b308468496c0209c01820cf5();\r\n",
       "                };\r\n",
       "                document.getElementsByTagName(\"head\")[0].appendChild(script);\r\n",
       "            }\r\n",
       "            else {\r\n",
       "                renderPlotly_e54a5d49b308468496c0209c01820cf5();\r\n",
       "            }\r\n",
       "</script>\r\n",
       "\r\n",
       "    \r\n",
       "</div    \r\n"
      ]
     },
     "metadata": {},
     "output_type": "display_data"
    }
   ],
   "source": [
    "using System.Linq;\n",
    "using Microsoft.FSharp.Core;\n",
    "using Plotly.NET;\n",
    "using Plotly.NET.LayoutObjects;\n",
    "\n",
    "\n",
    "\n",
    "Trace t = new Trace(\"bar\");\n",
    "t.SetValue(\"x\", new string[][] { new string[]{\"a\",\"a\",\"b\",\"b\"}, new string[]{\"sub1\", \"sub2\",\"sub1\", \"sub2\"} });\n",
    "t.SetValue(\"y\", new int[]{2,4,6,8});\n",
    "//t.SetValue(\"x\", new int[][] { new int[]{1}, new int[]{2} });\n",
    "t.SetValue(\"name\", \"name1\");\n",
    "\n",
    "Trace t2 = new Trace(\"bar\");\n",
    "t2.SetValue(\"x\", new string[][] { new string[]{\"a\",\"a\",\"b\",\"b\"}, new string[]{\"sub1\", \"sub2\",\"sub1\", \"sub2\"} });\n",
    "t2.SetValue(\"y\", new int[]{1,2,3,4});\n",
    "//t.SetValue(\"x\", new int[][] { new int[]{1}, new int[]{2} });\n",
    "t2.SetValue(\"name\", \"name2\");\n",
    "//var tra = Trace2D.initBar(FSharpFunc<Trace2D, Trace2D>.FromConverter(new Converter<Trace2D, Trace2D>(x => x)));\n",
    "var charts = new GenericChart.GenericChart[] {GenericChart.ofTraceObject(false, t), GenericChart.ofTraceObject(false,t2)};\n",
    "GenericChart.combine(charts)\n",
    "//.WithLayout(Layout.init<int>(BarMode:StyleParam.BarMode.Stack))\n"
   ]
  },
  {
   "cell_type": "code",
   "execution_count": null,
   "metadata": {
    "dotnet_interactive": {
     "language": "csharp"
    },
    "vscode": {
     "languageId": "dotnet-interactive.fsharp"
    }
   },
   "outputs": [
    {
     "data": {
      "text/html": [
       "<div><div></div><div></div><div><strong>Installed Packages</strong><ul><li><span>Plotly.NET, 2.0.0</span></li><li><span>Plotly.NET.Interactive, 2.0.0</span></li></ul></div></div>"
      ]
     },
     "metadata": {},
     "output_type": "display_data"
    },
    {
     "data": {
      "text/html": [
       "\r\n",
       "<div>\r\n",
       "    <div id=\"e3ceac8e-8e7f-4ba9-a1a0-bb4913719a6e\"><!-- Plotly chart will be drawn inside this DIV --></div>\r\n",
       "<script type=\"text/javascript\">\r\n",
       "\r\n",
       "            var renderPlotly_e3ceac8e8e7f4ba9a1a0bb4913719a6e = function() {\r\n",
       "            var fsharpPlotlyRequire = requirejs.config({context:'fsharp-plotly',paths:{plotly:'https://cdn.plot.ly/plotly-2.6.3.min'}}) || require;\r\n",
       "            fsharpPlotlyRequire(['plotly'], function(Plotly) {\r\n",
       "\r\n",
       "            var data = [{\"type\":\"bar\",\"x\":[[\"First\",\"First\",\"Second\",\"Second\"],[\"A\",\"B\",\"A\",\"B\"]],\"y\":[2,3,1,5],\"name\":\"Adults\"},{\"type\":\"bar\",\"x\":[[\"First\",\"First\",\"Second\",\"Second\"],[\"A\",\"B\",\"A\",\"B\"]],\"y\":[8,3,6,5],\"name\":\"Children\"}];\r\n",
       "            var layout = {\"title\":{\"text\":\"Multi-category axis\"},\"width\":700};\r\n",
       "            var config = {};\r\n",
       "            Plotly.newPlot('e3ceac8e-8e7f-4ba9-a1a0-bb4913719a6e', data, layout, config);\r\n",
       "});\r\n",
       "            };\r\n",
       "            if ((typeof(requirejs) !==  typeof(Function)) || (typeof(requirejs.config) !== typeof(Function))) {\r\n",
       "                var script = document.createElement(\"script\");\r\n",
       "                script.setAttribute(\"src\", \"https://cdnjs.cloudflare.com/ajax/libs/require.js/2.3.6/require.min.js\");\r\n",
       "                script.onload = function(){\r\n",
       "                    renderPlotly_e3ceac8e8e7f4ba9a1a0bb4913719a6e();\r\n",
       "                };\r\n",
       "                document.getElementsByTagName(\"head\")[0].appendChild(script);\r\n",
       "            }\r\n",
       "            else {\r\n",
       "                renderPlotly_e3ceac8e8e7f4ba9a1a0bb4913719a6e();\r\n",
       "            }\r\n",
       "</script>\r\n",
       "\r\n",
       "    \r\n",
       "</div    \r\n"
      ]
     },
     "metadata": {},
     "output_type": "display_data"
    }
   ],
   "source": [
    "#r \"nuget:Plotly.NET,*-*\"\n",
    "#r \"nuget: Plotly.NET.Interactive,*-*\"\n",
    "\n",
    "open Plotly.NET\n",
    "\n",
    "let trace x y name =  //Workaround\n",
    "    let tmp = Trace(\"bar\")\n",
    "    tmp?x <- x\n",
    "    tmp?y <- y\n",
    "    tmp?name <- name\n",
    "    tmp\n",
    "[\n",
    "    GenericChart.ofTraceObject false (trace [[\"First\"; \"First\";\"Second\";\"Second\"];[\"A\"; \"B\"; \"A\"; \"B\"]] [2;3;1;5] \"Adults\")\n",
    "    GenericChart.ofTraceObject false (trace [[\"First\"; \"First\";\"Second\";\"Second\"];[\"A\"; \"B\"; \"A\"; \"B\"]] [8;3;6;5] \"Children\")\n",
    "]\n",
    "|> Chart.combine\n",
    "|> Chart.withLayout(Layout.init(Title = Title.init(\"Multi-category axis\"), Width = 700))"
   ]
  },
  {
   "cell_type": "code",
   "execution_count": null,
   "metadata": {
    "dotnet_interactive": {
     "language": "csharp"
    },
    "vscode": {
     "languageId": "dotnet-interactive.csharp"
    }
   },
   "outputs": [
    {
     "data": {
      "text/html": [
       "<a id=\"ageGroup\"></a>\r\n",
       "\r\n",
       "\r\n"
      ]
     },
     "metadata": {},
     "output_type": "display_data"
    },
    {
     "data": {
      "text/html": [
       "\r\n",
       "<div>\r\n",
       "    <div id=\"af876cc5-b3aa-44b7-95ed-bc7a34a6bb41\"><!-- Plotly chart will be drawn inside this DIV --></div>\r\n",
       "<script type=\"text/javascript\">\r\n",
       "\r\n",
       "            var renderPlotly_af876cc5b3aa44b795edbc7a34a6bb41 = function() {\r\n",
       "            var fsharpPlotlyRequire = requirejs.config({context:'fsharp-plotly',paths:{plotly:'https://cdn.plot.ly/plotly-2.6.3.min'}}) || require;\r\n",
       "            fsharpPlotlyRequire(['plotly'], function(Plotly) {\r\n",
       "\r\n",
       "            var data = [{\"type\":\"bar\",\"x\":[[\"2017\",\"2017\",\"2018\",\"2018\",\"2019\",\"2019\",\"2020\",\"2020\",\"2021\",\"2021\",\"2022\",\"2022\"],[\"Item Percentage\",\"Inventory Percentage\",\"Item Percentage\",\"Inventory Percentage\",\"Item Percentage\",\"Inventory Percentage\",\"Item Percentage\",\"Inventory Percentage\",\"Item Percentage\",\"Inventory Percentage\",\"Item Percentage\",\"Inventory Percentage\"]],\"y\":[89.08382530499375,76.83238672586884,87.28915645206678,73.72404164700504,88.7649885441778,76.33657201606331,89.89176629194094,78.06550880353045,89.77467474160117,77.90140716304033,89.73504168023112,77.94811471086322],\"name\":\"Adult\"},{\"type\":\"bar\",\"x\":[[\"2017\",\"2017\",\"2018\",\"2018\",\"2019\",\"2019\",\"2020\",\"2020\",\"2021\",\"2021\",\"2022\",\"2022\"],[\"Item Percentage\",\"Inventory Percentage\",\"Item Percentage\",\"Inventory Percentage\",\"Item Percentage\",\"Inventory Percentage\",\"Item Percentage\",\"Inventory Percentage\",\"Item Percentage\",\"Inventory Percentage\",\"Item Percentage\",\"Inventory Percentage\"]],\"y\":[10.916174695006234,23.167613274131156,12.71084354793323,26.275958352994962,11.235011455822201,23.66342798393669,10.108233708059062,21.93449119646957,10.225325258398833,22.098592836959682,10.264958319768876,22.05188528913677],\"name\":\"Juvenile\"}];\r\n",
       "            var layout = {\"width\":1500,\"height\":600,\"template\":{\"layout\":{\"title\":{\"x\":0.05},\"font\":{\"color\":\"rgba(42, 63, 95, 1.0)\"},\"paper_bgcolor\":\"rgba(255, 255, 255, 1.0)\",\"plot_bgcolor\":\"rgba(229, 236, 246, 1.0)\",\"autotypenumbers\":\"strict\",\"colorscale\":{\"diverging\":[[0.0,\"#8e0152\"],[0.1,\"#c51b7d\"],[0.2,\"#de77ae\"],[0.3,\"#f1b6da\"],[0.4,\"#fde0ef\"],[0.5,\"#f7f7f7\"],[0.6,\"#e6f5d0\"],[0.7,\"#b8e186\"],[0.8,\"#7fbc41\"],[0.9,\"#4d9221\"],[1.0,\"#276419\"]],\"sequential\":[[0.0,\"#0d0887\"],[0.1111111111111111,\"#46039f\"],[0.2222222222222222,\"#7201a8\"],[0.3333333333333333,\"#9c179e\"],[0.4444444444444444,\"#bd3786\"],[0.5555555555555556,\"#d8576b\"],[0.6666666666666666,\"#ed7953\"],[0.7777777777777778,\"#fb9f3a\"],[0.8888888888888888,\"#fdca26\"],[1.0,\"#f0f921\"]],\"sequentialminus\":[[0.0,\"#0d0887\"],[0.1111111111111111,\"#46039f\"],[0.2222222222222222,\"#7201a8\"],[0.3333333333333333,\"#9c179e\"],[0.4444444444444444,\"#bd3786\"],[0.5555555555555556,\"#d8576b\"],[0.6666666666666666,\"#ed7953\"],[0.7777777777777778,\"#fb9f3a\"],[0.8888888888888888,\"#fdca26\"],[1.0,\"#f0f921\"]]},\"hovermode\":\"closest\",\"hoverlabel\":{\"align\":\"left\"},\"coloraxis\":{\"colorbar\":{\"outlinewidth\":0.0,\"ticks\":\"\"}},\"geo\":{\"showland\":true,\"landcolor\":\"rgba(229, 236, 246, 1.0)\",\"showlakes\":true,\"lakecolor\":\"rgba(255, 255, 255, 1.0)\",\"subunitcolor\":\"rgba(255, 255, 255, 1.0)\",\"bgcolor\":\"rgba(255, 255, 255, 1.0)\"},\"mapbox\":{\"style\":\"light\"},\"polar\":{\"bgcolor\":\"rgba(229, 236, 246, 1.0)\",\"radialaxis\":{\"linecolor\":\"rgba(255, 255, 255, 1.0)\",\"gridcolor\":\"rgba(255, 255, 255, 1.0)\",\"ticks\":\"\"},\"angularaxis\":{\"linecolor\":\"rgba(255, 255, 255, 1.0)\",\"gridcolor\":\"rgba(255, 255, 255, 1.0)\",\"ticks\":\"\"}},\"scene\":{\"xaxis\":{\"ticks\":\"\",\"linecolor\":\"rgba(255, 255, 255, 1.0)\",\"gridcolor\":\"rgba(255, 255, 255, 1.0)\",\"gridwidth\":2.0,\"zerolinecolor\":\"rgba(255, 255, 255, 1.0)\",\"backgroundcolor\":\"rgba(229, 236, 246, 1.0)\",\"showbackground\":true},\"yaxis\":{\"ticks\":\"\",\"linecolor\":\"rgba(255, 255, 255, 1.0)\",\"gridcolor\":\"rgba(255, 255, 255, 1.0)\",\"gridwidth\":2.0,\"zerolinecolor\":\"rgba(255, 255, 255, 1.0)\",\"backgroundcolor\":\"rgba(229, 236, 246, 1.0)\",\"showbackground\":true},\"zaxis\":{\"ticks\":\"\",\"linecolor\":\"rgba(255, 255, 255, 1.0)\",\"gridcolor\":\"rgba(255, 255, 255, 1.0)\",\"gridwidth\":2.0,\"zerolinecolor\":\"rgba(255, 255, 255, 1.0)\",\"backgroundcolor\":\"rgba(229, 236, 246, 1.0)\",\"showbackground\":true}},\"ternary\":{\"aaxis\":{\"ticks\":\"\",\"linecolor\":\"rgba(255, 255, 255, 1.0)\",\"gridcolor\":\"rgba(255, 255, 255, 1.0)\"},\"baxis\":{\"ticks\":\"\",\"linecolor\":\"rgba(255, 255, 255, 1.0)\",\"gridcolor\":\"rgba(255, 255, 255, 1.0)\"},\"caxis\":{\"ticks\":\"\",\"linecolor\":\"rgba(255, 255, 255, 1.0)\",\"gridcolor\":\"rgba(255, 255, 255, 1.0)\"},\"bgcolor\":\"rgba(229, 236, 246, 1.0)\"},\"xaxis\":{\"title\":{\"standoff\":15},\"ticks\":\"\",\"automargin\":true,\"linecolor\":\"rgba(255, 255, 255, 1.0)\",\"gridcolor\":\"rgba(255, 255, 255, 1.0)\",\"zerolinecolor\":\"rgba(255, 255, 255, 1.0)\",\"zerolinewidth\":2.0},\"yaxis\":{\"title\":{\"standoff\":15},\"ticks\":\"\",\"automargin\":true,\"linecolor\":\"rgba(255, 255, 255, 1.0)\",\"gridcolor\":\"rgba(255, 255, 255, 1.0)\",\"zerolinecolor\":\"rgba(255, 255, 255, 1.0)\",\"zerolinewidth\":2.0},\"annotationdefaults\":{\"arrowcolor\":\"#2a3f5f\",\"arrowhead\":0,\"arrowwidth\":1},\"shapedefaults\":{\"line\":{\"color\":\"rgba(42, 63, 95, 1.0)\"}},\"colorway\":[\"rgba(99, 110, 250, 1.0)\",\"rgba(239, 85, 59, 1.0)\",\"rgba(0, 204, 150, 1.0)\",\"rgba(171, 99, 250, 1.0)\",\"rgba(255, 161, 90, 1.0)\",\"rgba(25, 211, 243, 1.0)\",\"rgba(255, 102, 146, 1.0)\",\"rgba(182, 232, 128, 1.0)\",\"rgba(255, 151, 255, 1.0)\",\"rgba(254, 203, 82, 1.0)\"]},\"data\":{\"bar\":[{\"marker\":{\"line\":{\"color\":\"rgba(229, 236, 246, 1.0)\",\"width\":0.5},\"pattern\":{\"fillmode\":\"overlay\",\"size\":10,\"solidity\":0.2}},\"error_x\":{\"color\":\"rgba(42, 63, 95, 1.0)\"},\"error_y\":{\"color\":\"rgba(42, 63, 95, 1.0)\"}}],\"barpolar\":[{\"marker\":{\"line\":{\"color\":\"rgba(229, 236, 246, 1.0)\",\"width\":0.5},\"pattern\":{\"fillmode\":\"overlay\",\"size\":10,\"solidity\":0.2}}}],\"carpet\":[{\"aaxis\":{\"linecolor\":\"rgba(255, 255, 255, 1.0)\",\"gridcolor\":\"rgba(255, 255, 255, 1.0)\",\"endlinecolor\":\"rgba(42, 63, 95, 1.0)\",\"minorgridcolor\":\"rgba(255, 255, 255, 1.0)\",\"startlinecolor\":\"rgba(42, 63, 95, 1.0)\"},\"baxis\":{\"linecolor\":\"rgba(255, 255, 255, 1.0)\",\"gridcolor\":\"rgba(255, 255, 255, 1.0)\",\"endlinecolor\":\"rgba(42, 63, 95, 1.0)\",\"minorgridcolor\":\"rgba(255, 255, 255, 1.0)\",\"startlinecolor\":\"rgba(42, 63, 95, 1.0)\"}}],\"choropleth\":[{\"colorbar\":{\"outlinewidth\":0.0,\"ticks\":\"\"},\"colorscale\":[[0.0,\"#0d0887\"],[0.1111111111111111,\"#46039f\"],[0.2222222222222222,\"#7201a8\"],[0.3333333333333333,\"#9c179e\"],[0.4444444444444444,\"#bd3786\"],[0.5555555555555556,\"#d8576b\"],[0.6666666666666666,\"#ed7953\"],[0.7777777777777778,\"#fb9f3a\"],[0.8888888888888888,\"#fdca26\"],[1.0,\"#f0f921\"]]}],\"contour\":[{\"colorbar\":{\"outlinewidth\":0.0,\"ticks\":\"\"},\"colorscale\":[[0.0,\"#0d0887\"],[0.1111111111111111,\"#46039f\"],[0.2222222222222222,\"#7201a8\"],[0.3333333333333333,\"#9c179e\"],[0.4444444444444444,\"#bd3786\"],[0.5555555555555556,\"#d8576b\"],[0.6666666666666666,\"#ed7953\"],[0.7777777777777778,\"#fb9f3a\"],[0.8888888888888888,\"#fdca26\"],[1.0,\"#f0f921\"]]}],\"contourcarpet\":[{\"colorbar\":{\"outlinewidth\":0.0,\"ticks\":\"\"}}],\"heatmap\":[{\"colorbar\":{\"outlinewidth\":0.0,\"ticks\":\"\"},\"colorscale\":[[0.0,\"#0d0887\"],[0.1111111111111111,\"#46039f\"],[0.2222222222222222,\"#7201a8\"],[0.3333333333333333,\"#9c179e\"],[0.4444444444444444,\"#bd3786\"],[0.5555555555555556,\"#d8576b\"],[0.6666666666666666,\"#ed7953\"],[0.7777777777777778,\"#fb9f3a\"],[0.8888888888888888,\"#fdca26\"],[1.0,\"#f0f921\"]]}],\"heatmapgl\":[{\"colorbar\":{\"outlinewidth\":0.0,\"ticks\":\"\"},\"colorscale\":[[0.0,\"#0d0887\"],[0.1111111111111111,\"#46039f\"],[0.2222222222222222,\"#7201a8\"],[0.3333333333333333,\"#9c179e\"],[0.4444444444444444,\"#bd3786\"],[0.5555555555555556,\"#d8576b\"],[0.6666666666666666,\"#ed7953\"],[0.7777777777777778,\"#fb9f3a\"],[0.8888888888888888,\"#fdca26\"],[1.0,\"#f0f921\"]]}],\"histogram\":[{\"marker\":{\"pattern\":{\"fillmode\":\"overlay\",\"size\":10,\"solidity\":0.2}}}],\"histogram2d\":[{\"colorbar\":{\"outlinewidth\":0.0,\"ticks\":\"\"},\"colorscale\":[[0.0,\"#0d0887\"],[0.1111111111111111,\"#46039f\"],[0.2222222222222222,\"#7201a8\"],[0.3333333333333333,\"#9c179e\"],[0.4444444444444444,\"#bd3786\"],[0.5555555555555556,\"#d8576b\"],[0.6666666666666666,\"#ed7953\"],[0.7777777777777778,\"#fb9f3a\"],[0.8888888888888888,\"#fdca26\"],[1.0,\"#f0f921\"]]}],\"histogram2dcontour\":[{\"colorbar\":{\"outlinewidth\":0.0,\"ticks\":\"\"},\"colorscale\":[[0.0,\"#0d0887\"],[0.1111111111111111,\"#46039f\"],[0.2222222222222222,\"#7201a8\"],[0.3333333333333333,\"#9c179e\"],[0.4444444444444444,\"#bd3786\"],[0.5555555555555556,\"#d8576b\"],[0.6666666666666666,\"#ed7953\"],[0.7777777777777778,\"#fb9f3a\"],[0.8888888888888888,\"#fdca26\"],[1.0,\"#f0f921\"]]}],\"mesh3d\":[{\"colorbar\":{\"outlinewidth\":0.0,\"ticks\":\"\"}}],\"parcoords\":[{\"line\":{\"colorbar\":{\"outlinewidth\":0.0,\"ticks\":\"\"}}}],\"pie\":[{\"automargin\":true}],\"scatter\":[{\"marker\":{\"colorbar\":{\"outlinewidth\":0.0,\"ticks\":\"\"}}}],\"scatter3d\":[{\"marker\":{\"colorbar\":{\"outlinewidth\":0.0,\"ticks\":\"\"}},\"line\":{\"colorbar\":{\"outlinewidth\":0.0,\"ticks\":\"\"}}}],\"scattercarpet\":[{\"marker\":{\"colorbar\":{\"outlinewidth\":0.0,\"ticks\":\"\"}}}],\"scattergeo\":[{\"marker\":{\"colorbar\":{\"outlinewidth\":0.0,\"ticks\":\"\"}}}],\"scattergl\":[{\"marker\":{\"colorbar\":{\"outlinewidth\":0.0,\"ticks\":\"\"}}}],\"scattermapbox\":[{\"marker\":{\"colorbar\":{\"outlinewidth\":0.0,\"ticks\":\"\"}}}],\"scatterpolar\":[{\"marker\":{\"colorbar\":{\"outlinewidth\":0.0,\"ticks\":\"\"}}}],\"scatterpolargl\":[{\"marker\":{\"colorbar\":{\"outlinewidth\":0.0,\"ticks\":\"\"}}}],\"scatterternary\":[{\"marker\":{\"colorbar\":{\"outlinewidth\":0.0,\"ticks\":\"\"}}}],\"surface\":[{\"colorbar\":{\"outlinewidth\":0.0,\"ticks\":\"\"},\"colorscale\":[[0.0,\"#0d0887\"],[0.1111111111111111,\"#46039f\"],[0.2222222222222222,\"#7201a8\"],[0.3333333333333333,\"#9c179e\"],[0.4444444444444444,\"#bd3786\"],[0.5555555555555556,\"#d8576b\"],[0.6666666666666666,\"#ed7953\"],[0.7777777777777778,\"#fb9f3a\"],[0.8888888888888888,\"#fdca26\"],[1.0,\"#f0f921\"]]}],\"table\":[{\"cells\":{\"fill\":{\"color\":\"rgba(235, 240, 248, 1.0)\"},\"line\":{\"color\":\"rgba(255, 255, 255, 1.0)\"}},\"header\":{\"fill\":{\"color\":\"rgba(200, 212, 227, 1.0)\"},\"line\":{\"color\":\"rgba(255, 255, 255, 1.0)\"}}}]}},\"title\":{\"text\":\"Age Group Composition %\"},\"colorway\":[\"rgba(100, 149, 237, 1.0)\",\"rgba(46, 139, 87, 1.0)\",\"rgba(255, 192, 203, 1.0)\",\"rgba(255, 255, 0, 1.0)\"],\"dragmode\":\"pan\",\"barmode\":\"stack\"};\r\n",
       "            var config = {\"responsive\":true};\r\n",
       "            Plotly.newPlot('af876cc5-b3aa-44b7-95ed-bc7a34a6bb41', data, layout, config);\r\n",
       "});\r\n",
       "            };\r\n",
       "            if ((typeof(requirejs) !==  typeof(Function)) || (typeof(requirejs.config) !== typeof(Function))) {\r\n",
       "                var script = document.createElement(\"script\");\r\n",
       "                script.setAttribute(\"src\", \"https://cdnjs.cloudflare.com/ajax/libs/require.js/2.3.6/require.min.js\");\r\n",
       "                script.onload = function(){\r\n",
       "                    renderPlotly_af876cc5b3aa44b795edbc7a34a6bb41();\r\n",
       "                };\r\n",
       "                document.getElementsByTagName(\"head\")[0].appendChild(script);\r\n",
       "            }\r\n",
       "            else {\r\n",
       "                renderPlotly_af876cc5b3aa44b795edbc7a34a6bb41();\r\n",
       "            }\r\n",
       "</script>\r\n",
       "\r\n",
       "    \r\n",
       "</div    \r\n"
      ]
     },
     "metadata": {},
     "output_type": "display_data"
    }
   ],
   "source": [
    "#!share --from sql-splSnapshots itemTypeAgeGroup\n",
    "\n",
    "using System.Linq;\n",
    "using Microsoft.FSharp.Core;\n",
    "using Plotly.NET;\n",
    "using Plotly.NET.LayoutObjects;\n",
    "\n",
    "string[] years = (itemTypeAgeGroup[0].Data.GroupBy(x=>((DateTime)x[\"ReportDate\"]).Year).OrderBy(x=>x.Key.ToString())\n",
    ".SelectMany(x=>new string[]{x.Key.ToString(), x.Key.ToString()})).ToArray();\n",
    "\n",
    "string[] inventoryCategory = (Enumerable.Repeat(new string[]{\"Item Percentage\", \"Inventory Percentage\"}, years.Length/2).SelectMany(x=>x)).ToArray();\n",
    "List<Trace> traces = new();\n",
    "\n",
    "foreach(var g in itemTypeAgeGroup[0].Data.GroupBy(x=> x[\"AgeGroup\"]).OrderBy(x=>x.Key.ToString())){\n",
    "\n",
    "    var itemPercentages = g.GroupBy(x=>((DateTime)x[\"ReportDate\"]).Year).Select(x=> x.Average(x=>(double)x[\"AgeGroupItemPercentage\"]));\n",
    "    var inventoryPercentages = g.GroupBy(x=>((DateTime)x[\"ReportDate\"]).Year).Select(x=> x.Average(x=>(double)x[\"AgeGroupInventoryPercentage\"]));\n",
    "\n",
    "    Trace t = new Trace(\"bar\");\n",
    "    t.SetValue(\"x\", new string[][]{years, inventoryCategory} );\n",
    "    t.SetValue(\"y\", itemPercentages.Zip(inventoryPercentages, (x,y) => new double[]{x,y}).SelectMany(x=> x));\n",
    "    t.SetValue(\"name\", g.Key.ToString());\n",
    "    traces.Add(t);\n",
    "\n",
    "    \n",
    "    // charts.Add(\n",
    "    //     Chart2D.Chart.Column<string, double, string, string, string>(\n",
    "    //         Name:g.Key.ToString()  ,\n",
    "    //         keysValues: new List<Tuple<string,double>>(\n",
    "    //             //ageGroups.First(x=>x.Key==\"Adult\").Select(kvp => new Tuple<string, double>(((DateTime)kvp[\"ReportDate\"]).ToShortDateString(),(double) kvp[\"AgeGroupItemPercentage\"]))\n",
    "    //             g.GroupBy(x=>((DateTime)x[\"ReportDate\"]).Year).Select(x=> new Tuple<string, double>(x.Key.ToString(), x.Average(x=>(double)x[\"AgeGroupItemPercentage\"])))\n",
    "    //         )//{new Tuple<string,double>(g.Key.Year.ToString(),g.Average(x=>(double)x[\"AgeGroupItemPercentage\"]))}\n",
    "            \n",
    "    //     )\n",
    "    //     .WithXAxisStyle(title: Title.init(),ShowGrid:false, ShowLine:true));\n",
    "}\n",
    "var layout = Layout.init<int>(\n",
    "    Title: Title.init(\"Age Group Composition %\"),\n",
    "    Width:1500,\n",
    "    DragMode:StyleParam.DragMode.Pan,\n",
    "    BarMode:StyleParam.BarMode.Stack\n",
    "    ,    Colorway: Color.fromColors(\n",
    "        new List<Color>() { Color.fromKeyword(ColorKeyword.CornflowerBlue), Color.fromKeyword(ColorKeyword.SeaGreen) \n",
    "        , Color.fromKeyword(ColorKeyword.Pink), Color.fromKeyword(ColorKeyword.Yellow)})\n",
    ");\n",
    "\n",
    "#!html\n",
    "<a id=\"ageGroup\"></a>\n",
    "\n",
    "\n",
    "#!csharp\n",
    "\n",
    "GenericChart.combine(new GenericChart.GenericChart[]{GenericChart.ofTraceObject(true, traces[0]), GenericChart.ofTraceObject(true, traces[1])})\n",
    ".WithLayout(layout)"
   ]
  },
  {
   "cell_type": "code",
   "execution_count": null,
   "metadata": {
    "dotnet_interactive": {
     "language": "csharp"
    },
    "vscode": {
     "languageId": "dotnet-interactive.csharp"
    }
   },
   "outputs": [],
   "source": [
    "#!sql-splSnapshots --name itemTypeFormat\n",
    "\n",
    "SELECT ReportDate,\n",
    "       FormatGroup,\n",
    "       Count(DISTINCT bibnum) as ItemCount,\n",
    "       Sum(ei.itemcount) as InventoryCount\n",
    "FROM   ElementInventory ei\n",
    "       INNER JOIN ItemType it\n",
    "               ON ei.ItemTypeCode = it.Code\n",
    "\n",
    "GROUP  BY ReportDate,\n",
    "          FormatGroup "
   ]
  },
  {
   "cell_type": "code",
   "execution_count": null,
   "metadata": {
    "dotnet_interactive": {
     "language": "sql"
    },
    "vscode": {
     "languageId": "dotnet-interactive.sql"
    }
   },
   "outputs": [],
   "source": [
    "#!share --from sql-splSnapshots itemTypeFormat\n",
    "\n",
    "using System.Linq;\n",
    "using Microsoft.FSharp.Core;\n",
    "using Plotly.NET;\n",
    "using Plotly.NET.LayoutObjects;\n",
    "\n"
   ]
  },
  {
   "cell_type": "code",
   "execution_count": null,
   "metadata": {
    "dotnet_interactive": {
     "language": "sql"
    },
    "vscode": {
     "languageId": "dotnet-interactive.sql"
    }
   },
   "outputs": [],
   "source": [
    "#!sql-splSnapshots --name itemCollectionFormat\n",
    "\n",
    "-- SELECT ReportDate,\n",
    "--        FormatGroup,\n",
    "--        Count(DISTINCT bibnum) as ItemCount,\n",
    "--        Sum(ei.itemcount) as InventoryCount\n",
    "-- FROM   ElementInventory ei\n",
    "--        INNER JOIN ItemCollection ic\n",
    "--                ON ei.ItemCollectionCode = ic.Code\n",
    "-- GROUP  BY ReportDate,\n",
    "--           FormatGroup "
   ]
  }
 ],
 "metadata": {
  "kernelspec": {
   "display_name": ".NET (C#)",
   "language": "C#",
   "name": ".net-csharp"
  },
  "language_info": {
   "name": "C#"
  }
 },
 "nbformat": 4,
 "nbformat_minor": 2
}
